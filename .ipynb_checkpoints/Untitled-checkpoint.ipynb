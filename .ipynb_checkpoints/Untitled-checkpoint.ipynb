{
 "cells": [
  {
   "cell_type": "markdown",
   "id": "a21ff5f8",
   "metadata": {},
   "source": [
    "# Lesson 1: Computer Vision"
   ]
  },
  {
   "cell_type": "markdown",
   "id": "4a882a8f",
   "metadata": {},
   "source": [
    "## Research Question: How effectively can we use computer vision to discern human emotion from images?"
   ]
  },
  {
   "cell_type": "code",
   "execution_count": 3,
   "id": "730c2278",
   "metadata": {},
   "outputs": [
    {
     "name": "stdout",
     "output_type": "stream",
     "text": [
      "Collecting duckduckgo_search\n",
      "  Downloading duckduckgo_search-4.2-py3-none-any.whl.metadata (19 kB)\n",
      "Collecting click>=8.1.7 (from duckduckgo_search)\n",
      "  Downloading click-8.1.7-py3-none-any.whl.metadata (3.0 kB)\n",
      "Collecting lxml>=4.9.3 (from duckduckgo_search)\n",
      "  Downloading lxml-5.1.0-cp39-cp39-macosx_10_9_x86_64.whl.metadata (3.5 kB)\n",
      "Collecting curl-cffi>=0.5.10 (from duckduckgo_search)\n",
      "  Downloading curl_cffi-0.5.10-cp37-abi3-macosx_10_9_x86_64.whl.metadata (7.9 kB)\n",
      "Requirement already satisfied: cffi>=1.12.0 in /Library/Frameworks/Python.framework/Versions/3.9/lib/python3.9/site-packages (from curl-cffi>=0.5.10->duckduckgo_search) (1.14.6)\n",
      "Requirement already satisfied: pycparser in /Library/Frameworks/Python.framework/Versions/3.9/lib/python3.9/site-packages (from cffi>=1.12.0->curl-cffi>=0.5.10->duckduckgo_search) (2.20)\n",
      "Downloading duckduckgo_search-4.2-py3-none-any.whl (25 kB)\n",
      "Downloading click-8.1.7-py3-none-any.whl (97 kB)\n",
      "\u001b[2K   \u001b[90m━━━━━━━━━━━━━━━━━━━━━━━━━━━━━━━━━━━━━━━━\u001b[0m \u001b[32m97.9/97.9 kB\u001b[0m \u001b[31m1.4 MB/s\u001b[0m eta \u001b[36m0:00:00\u001b[0ma \u001b[36m0:00:01\u001b[0m\n",
      "\u001b[?25hDownloading curl_cffi-0.5.10-cp37-abi3-macosx_10_9_x86_64.whl (4.9 MB)\n",
      "\u001b[2K   \u001b[90m━━━━━━━━━━━━━━━━━━━━━━━━━━━━━━━━━━━━━━━━\u001b[0m \u001b[32m4.9/4.9 MB\u001b[0m \u001b[31m12.1 MB/s\u001b[0m eta \u001b[36m0:00:00\u001b[0m00:01\u001b[0m00:01\u001b[0m\n",
      "\u001b[?25hDownloading lxml-5.1.0-cp39-cp39-macosx_10_9_x86_64.whl (4.7 MB)\n",
      "\u001b[2K   \u001b[90m━━━━━━━━━━━━━━━━━━━━━━━━━━━━━━━━━━━━━━━━\u001b[0m \u001b[32m4.7/4.7 MB\u001b[0m \u001b[31m12.8 MB/s\u001b[0m eta \u001b[36m0:00:00\u001b[0m00:01\u001b[0m00:01\u001b[0m\n",
      "\u001b[?25hInstalling collected packages: lxml, click, curl-cffi, duckduckgo_search\n",
      "  Attempting uninstall: click\n",
      "    Found existing installation: click 8.1.3\n",
      "    Uninstalling click-8.1.3:\n",
      "      Successfully uninstalled click-8.1.3\n",
      "Successfully installed click-8.1.7 curl-cffi-0.5.10 duckduckgo_search-4.2 lxml-5.1.0\n"
     ]
    }
   ],
   "source": [
    "!pip3 install duckduckgo_search"
   ]
  }
 ],
 "metadata": {
  "kernelspec": {
   "display_name": "Python 3 (ipykernel)",
   "language": "python",
   "name": "python3"
  },
  "language_info": {
   "codemirror_mode": {
    "name": "ipython",
    "version": 3
   },
   "file_extension": ".py",
   "mimetype": "text/x-python",
   "name": "python",
   "nbconvert_exporter": "python",
   "pygments_lexer": "ipython3",
   "version": "3.9.5"
  }
 },
 "nbformat": 4,
 "nbformat_minor": 5
}
