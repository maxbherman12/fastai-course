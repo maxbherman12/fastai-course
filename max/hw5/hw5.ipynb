{
 "cells": [
  {
   "cell_type": "markdown",
   "id": "4a054602",
   "metadata": {},
   "source": [
    "This data comes from https://www.kaggle.com/datasets/rohitudageri/credit-card-details/data"
   ]
  },
  {
   "cell_type": "code",
   "execution_count": 1,
   "id": "067db850",
   "metadata": {},
   "outputs": [],
   "source": [
    "import pandas as pd"
   ]
  },
  {
   "cell_type": "code",
   "execution_count": 2,
   "id": "16b6e9c1",
   "metadata": {},
   "outputs": [
    {
     "name": "stdout",
     "output_type": "stream",
     "text": [
      "Credit_card.csv       Credit_card_label.csv hw5.ipynb\r\n"
     ]
    }
   ],
   "source": [
    "!ls"
   ]
  },
  {
   "cell_type": "code",
   "execution_count": 3,
   "id": "d3d773c4",
   "metadata": {},
   "outputs": [],
   "source": [
    "cols_files = pd.read_csv(\"Credit_card.csv\")\n",
    "label_file = pd.read_csv(\"Credit_card_label.csv\")"
   ]
  },
  {
   "cell_type": "markdown",
   "id": "9703e9e8",
   "metadata": {},
   "source": [
    "Let's join the tables on their ids"
   ]
  },
  {
   "cell_type": "code",
   "execution_count": 4,
   "id": "762735ab",
   "metadata": {},
   "outputs": [
    {
     "name": "stdout",
     "output_type": "stream",
     "text": [
      "Object `df.merge` not found.\n"
     ]
    }
   ],
   "source": [
    "df.merge?"
   ]
  },
  {
   "cell_type": "code",
   "execution_count": 5,
   "id": "fd6556a0",
   "metadata": {},
   "outputs": [
    {
     "data": {
      "text/html": [
       "<div>\n",
       "<style scoped>\n",
       "    .dataframe tbody tr th:only-of-type {\n",
       "        vertical-align: middle;\n",
       "    }\n",
       "\n",
       "    .dataframe tbody tr th {\n",
       "        vertical-align: top;\n",
       "    }\n",
       "\n",
       "    .dataframe thead th {\n",
       "        text-align: right;\n",
       "    }\n",
       "</style>\n",
       "<table border=\"1\" class=\"dataframe\">\n",
       "  <thead>\n",
       "    <tr style=\"text-align: right;\">\n",
       "      <th></th>\n",
       "      <th>Ind_ID</th>\n",
       "      <th>GENDER</th>\n",
       "      <th>Car_Owner</th>\n",
       "      <th>Propert_Owner</th>\n",
       "      <th>CHILDREN</th>\n",
       "      <th>Annual_income</th>\n",
       "      <th>Type_Income</th>\n",
       "      <th>EDUCATION</th>\n",
       "      <th>Marital_status</th>\n",
       "      <th>Housing_type</th>\n",
       "      <th>Birthday_count</th>\n",
       "      <th>Employed_days</th>\n",
       "      <th>Mobile_phone</th>\n",
       "      <th>Work_Phone</th>\n",
       "      <th>Phone</th>\n",
       "      <th>EMAIL_ID</th>\n",
       "      <th>Type_Occupation</th>\n",
       "      <th>Family_Members</th>\n",
       "      <th>label</th>\n",
       "    </tr>\n",
       "  </thead>\n",
       "  <tbody>\n",
       "    <tr>\n",
       "      <th>0</th>\n",
       "      <td>5008827</td>\n",
       "      <td>M</td>\n",
       "      <td>Y</td>\n",
       "      <td>Y</td>\n",
       "      <td>0</td>\n",
       "      <td>180000.0</td>\n",
       "      <td>Pensioner</td>\n",
       "      <td>Higher education</td>\n",
       "      <td>Married</td>\n",
       "      <td>House / apartment</td>\n",
       "      <td>-18772.0</td>\n",
       "      <td>365243</td>\n",
       "      <td>1</td>\n",
       "      <td>0</td>\n",
       "      <td>0</td>\n",
       "      <td>0</td>\n",
       "      <td>NaN</td>\n",
       "      <td>2</td>\n",
       "      <td>1</td>\n",
       "    </tr>\n",
       "    <tr>\n",
       "      <th>1</th>\n",
       "      <td>5009744</td>\n",
       "      <td>F</td>\n",
       "      <td>Y</td>\n",
       "      <td>N</td>\n",
       "      <td>0</td>\n",
       "      <td>315000.0</td>\n",
       "      <td>Commercial associate</td>\n",
       "      <td>Higher education</td>\n",
       "      <td>Married</td>\n",
       "      <td>House / apartment</td>\n",
       "      <td>-13557.0</td>\n",
       "      <td>-586</td>\n",
       "      <td>1</td>\n",
       "      <td>1</td>\n",
       "      <td>1</td>\n",
       "      <td>0</td>\n",
       "      <td>NaN</td>\n",
       "      <td>2</td>\n",
       "      <td>1</td>\n",
       "    </tr>\n",
       "    <tr>\n",
       "      <th>2</th>\n",
       "      <td>5009746</td>\n",
       "      <td>F</td>\n",
       "      <td>Y</td>\n",
       "      <td>N</td>\n",
       "      <td>0</td>\n",
       "      <td>315000.0</td>\n",
       "      <td>Commercial associate</td>\n",
       "      <td>Higher education</td>\n",
       "      <td>Married</td>\n",
       "      <td>House / apartment</td>\n",
       "      <td>NaN</td>\n",
       "      <td>-586</td>\n",
       "      <td>1</td>\n",
       "      <td>1</td>\n",
       "      <td>1</td>\n",
       "      <td>0</td>\n",
       "      <td>NaN</td>\n",
       "      <td>2</td>\n",
       "      <td>1</td>\n",
       "    </tr>\n",
       "    <tr>\n",
       "      <th>3</th>\n",
       "      <td>5009749</td>\n",
       "      <td>F</td>\n",
       "      <td>Y</td>\n",
       "      <td>N</td>\n",
       "      <td>0</td>\n",
       "      <td>NaN</td>\n",
       "      <td>Commercial associate</td>\n",
       "      <td>Higher education</td>\n",
       "      <td>Married</td>\n",
       "      <td>House / apartment</td>\n",
       "      <td>-13557.0</td>\n",
       "      <td>-586</td>\n",
       "      <td>1</td>\n",
       "      <td>1</td>\n",
       "      <td>1</td>\n",
       "      <td>0</td>\n",
       "      <td>NaN</td>\n",
       "      <td>2</td>\n",
       "      <td>1</td>\n",
       "    </tr>\n",
       "    <tr>\n",
       "      <th>4</th>\n",
       "      <td>5009752</td>\n",
       "      <td>F</td>\n",
       "      <td>Y</td>\n",
       "      <td>N</td>\n",
       "      <td>0</td>\n",
       "      <td>315000.0</td>\n",
       "      <td>Commercial associate</td>\n",
       "      <td>Higher education</td>\n",
       "      <td>Married</td>\n",
       "      <td>House / apartment</td>\n",
       "      <td>-13557.0</td>\n",
       "      <td>-586</td>\n",
       "      <td>1</td>\n",
       "      <td>1</td>\n",
       "      <td>1</td>\n",
       "      <td>0</td>\n",
       "      <td>NaN</td>\n",
       "      <td>2</td>\n",
       "      <td>1</td>\n",
       "    </tr>\n",
       "    <tr>\n",
       "      <th>...</th>\n",
       "      <td>...</td>\n",
       "      <td>...</td>\n",
       "      <td>...</td>\n",
       "      <td>...</td>\n",
       "      <td>...</td>\n",
       "      <td>...</td>\n",
       "      <td>...</td>\n",
       "      <td>...</td>\n",
       "      <td>...</td>\n",
       "      <td>...</td>\n",
       "      <td>...</td>\n",
       "      <td>...</td>\n",
       "      <td>...</td>\n",
       "      <td>...</td>\n",
       "      <td>...</td>\n",
       "      <td>...</td>\n",
       "      <td>...</td>\n",
       "      <td>...</td>\n",
       "      <td>...</td>\n",
       "    </tr>\n",
       "    <tr>\n",
       "      <th>1543</th>\n",
       "      <td>5028645</td>\n",
       "      <td>F</td>\n",
       "      <td>N</td>\n",
       "      <td>Y</td>\n",
       "      <td>0</td>\n",
       "      <td>NaN</td>\n",
       "      <td>Commercial associate</td>\n",
       "      <td>Higher education</td>\n",
       "      <td>Married</td>\n",
       "      <td>House / apartment</td>\n",
       "      <td>-11957.0</td>\n",
       "      <td>-2182</td>\n",
       "      <td>1</td>\n",
       "      <td>0</td>\n",
       "      <td>0</td>\n",
       "      <td>0</td>\n",
       "      <td>Managers</td>\n",
       "      <td>2</td>\n",
       "      <td>0</td>\n",
       "    </tr>\n",
       "    <tr>\n",
       "      <th>1544</th>\n",
       "      <td>5023655</td>\n",
       "      <td>F</td>\n",
       "      <td>N</td>\n",
       "      <td>N</td>\n",
       "      <td>0</td>\n",
       "      <td>225000.0</td>\n",
       "      <td>Commercial associate</td>\n",
       "      <td>Incomplete higher</td>\n",
       "      <td>Single / not married</td>\n",
       "      <td>House / apartment</td>\n",
       "      <td>-10229.0</td>\n",
       "      <td>-1209</td>\n",
       "      <td>1</td>\n",
       "      <td>0</td>\n",
       "      <td>0</td>\n",
       "      <td>0</td>\n",
       "      <td>Accountants</td>\n",
       "      <td>1</td>\n",
       "      <td>0</td>\n",
       "    </tr>\n",
       "    <tr>\n",
       "      <th>1545</th>\n",
       "      <td>5115992</td>\n",
       "      <td>M</td>\n",
       "      <td>Y</td>\n",
       "      <td>Y</td>\n",
       "      <td>2</td>\n",
       "      <td>180000.0</td>\n",
       "      <td>Working</td>\n",
       "      <td>Higher education</td>\n",
       "      <td>Married</td>\n",
       "      <td>House / apartment</td>\n",
       "      <td>-13174.0</td>\n",
       "      <td>-2477</td>\n",
       "      <td>1</td>\n",
       "      <td>0</td>\n",
       "      <td>0</td>\n",
       "      <td>0</td>\n",
       "      <td>Managers</td>\n",
       "      <td>4</td>\n",
       "      <td>0</td>\n",
       "    </tr>\n",
       "    <tr>\n",
       "      <th>1546</th>\n",
       "      <td>5118219</td>\n",
       "      <td>M</td>\n",
       "      <td>Y</td>\n",
       "      <td>N</td>\n",
       "      <td>0</td>\n",
       "      <td>270000.0</td>\n",
       "      <td>Working</td>\n",
       "      <td>Secondary / secondary special</td>\n",
       "      <td>Civil marriage</td>\n",
       "      <td>House / apartment</td>\n",
       "      <td>-15292.0</td>\n",
       "      <td>-645</td>\n",
       "      <td>1</td>\n",
       "      <td>1</td>\n",
       "      <td>1</td>\n",
       "      <td>0</td>\n",
       "      <td>Drivers</td>\n",
       "      <td>2</td>\n",
       "      <td>0</td>\n",
       "    </tr>\n",
       "    <tr>\n",
       "      <th>1547</th>\n",
       "      <td>5053790</td>\n",
       "      <td>F</td>\n",
       "      <td>Y</td>\n",
       "      <td>Y</td>\n",
       "      <td>0</td>\n",
       "      <td>225000.0</td>\n",
       "      <td>Working</td>\n",
       "      <td>Higher education</td>\n",
       "      <td>Married</td>\n",
       "      <td>House / apartment</td>\n",
       "      <td>-16601.0</td>\n",
       "      <td>-2859</td>\n",
       "      <td>1</td>\n",
       "      <td>0</td>\n",
       "      <td>0</td>\n",
       "      <td>0</td>\n",
       "      <td>NaN</td>\n",
       "      <td>2</td>\n",
       "      <td>0</td>\n",
       "    </tr>\n",
       "  </tbody>\n",
       "</table>\n",
       "<p>1548 rows × 19 columns</p>\n",
       "</div>"
      ],
      "text/plain": [
       "       Ind_ID GENDER Car_Owner Propert_Owner  CHILDREN  Annual_income  \\\n",
       "0     5008827      M         Y             Y         0       180000.0   \n",
       "1     5009744      F         Y             N         0       315000.0   \n",
       "2     5009746      F         Y             N         0       315000.0   \n",
       "3     5009749      F         Y             N         0            NaN   \n",
       "4     5009752      F         Y             N         0       315000.0   \n",
       "...       ...    ...       ...           ...       ...            ...   \n",
       "1543  5028645      F         N             Y         0            NaN   \n",
       "1544  5023655      F         N             N         0       225000.0   \n",
       "1545  5115992      M         Y             Y         2       180000.0   \n",
       "1546  5118219      M         Y             N         0       270000.0   \n",
       "1547  5053790      F         Y             Y         0       225000.0   \n",
       "\n",
       "               Type_Income                      EDUCATION  \\\n",
       "0                Pensioner               Higher education   \n",
       "1     Commercial associate               Higher education   \n",
       "2     Commercial associate               Higher education   \n",
       "3     Commercial associate               Higher education   \n",
       "4     Commercial associate               Higher education   \n",
       "...                    ...                            ...   \n",
       "1543  Commercial associate               Higher education   \n",
       "1544  Commercial associate              Incomplete higher   \n",
       "1545               Working               Higher education   \n",
       "1546               Working  Secondary / secondary special   \n",
       "1547               Working               Higher education   \n",
       "\n",
       "            Marital_status       Housing_type  Birthday_count  Employed_days  \\\n",
       "0                  Married  House / apartment        -18772.0         365243   \n",
       "1                  Married  House / apartment        -13557.0           -586   \n",
       "2                  Married  House / apartment             NaN           -586   \n",
       "3                  Married  House / apartment        -13557.0           -586   \n",
       "4                  Married  House / apartment        -13557.0           -586   \n",
       "...                    ...                ...             ...            ...   \n",
       "1543               Married  House / apartment        -11957.0          -2182   \n",
       "1544  Single / not married  House / apartment        -10229.0          -1209   \n",
       "1545               Married  House / apartment        -13174.0          -2477   \n",
       "1546        Civil marriage  House / apartment        -15292.0           -645   \n",
       "1547               Married  House / apartment        -16601.0          -2859   \n",
       "\n",
       "      Mobile_phone  Work_Phone  Phone  EMAIL_ID Type_Occupation  \\\n",
       "0                1           0      0         0             NaN   \n",
       "1                1           1      1         0             NaN   \n",
       "2                1           1      1         0             NaN   \n",
       "3                1           1      1         0             NaN   \n",
       "4                1           1      1         0             NaN   \n",
       "...            ...         ...    ...       ...             ...   \n",
       "1543             1           0      0         0        Managers   \n",
       "1544             1           0      0         0     Accountants   \n",
       "1545             1           0      0         0        Managers   \n",
       "1546             1           1      1         0         Drivers   \n",
       "1547             1           0      0         0             NaN   \n",
       "\n",
       "      Family_Members  label  \n",
       "0                  2      1  \n",
       "1                  2      1  \n",
       "2                  2      1  \n",
       "3                  2      1  \n",
       "4                  2      1  \n",
       "...              ...    ...  \n",
       "1543               2      0  \n",
       "1544               1      0  \n",
       "1545               4      0  \n",
       "1546               2      0  \n",
       "1547               2      0  \n",
       "\n",
       "[1548 rows x 19 columns]"
      ]
     },
     "execution_count": 5,
     "metadata": {},
     "output_type": "execute_result"
    }
   ],
   "source": [
    "df = cols_files.merge(label_file, on=\"Ind_ID\")\n",
    "df"
   ]
  },
  {
   "cell_type": "markdown",
   "id": "bfcb1988",
   "metadata": {},
   "source": [
    "Now that we have all of our data, let's do some cleanup. We can drop the id column to start as it is no longer needed and doesn't hold any significance in terms of predicting our target. We can also drop the email and phone number columns."
   ]
  },
  {
   "cell_type": "code",
   "execution_count": 6,
   "id": "053ffde4",
   "metadata": {},
   "outputs": [],
   "source": [
    "df.drop(\"Ind_ID\", axis=1,inplace=True)"
   ]
  },
  {
   "cell_type": "code",
   "execution_count": 7,
   "id": "cddcb820",
   "metadata": {},
   "outputs": [],
   "source": [
    "df.drop([\"Mobile_phone\", \"Work_Phone\", \"Phone\", \"EMAIL_ID\"], axis=1, inplace=True)"
   ]
  },
  {
   "cell_type": "markdown",
   "id": "20cf5803",
   "metadata": {},
   "source": [
    "### Handling NA values"
   ]
  },
  {
   "cell_type": "code",
   "execution_count": 8,
   "id": "3348c923",
   "metadata": {},
   "outputs": [
    {
     "data": {
      "text/plain": [
       "GENDER               7\n",
       "Car_Owner            0\n",
       "Propert_Owner        0\n",
       "CHILDREN             0\n",
       "Annual_income       23\n",
       "Type_Income          0\n",
       "EDUCATION            0\n",
       "Marital_status       0\n",
       "Housing_type         0\n",
       "Birthday_count      22\n",
       "Employed_days        0\n",
       "Type_Occupation    488\n",
       "Family_Members       0\n",
       "label                0\n",
       "dtype: int64"
      ]
     },
     "execution_count": 8,
     "metadata": {},
     "output_type": "execute_result"
    }
   ],
   "source": [
    "df.isna().sum()"
   ]
  },
  {
   "cell_type": "markdown",
   "id": "41c41d17",
   "metadata": {},
   "source": [
    "To fill the above NA values we will use the following strategy. For gender we will assign the mode since male/female is about 50% so it doesn't really matter. For annual income and birthday count, we will assign the mean value and for type occupation we will assign a dummy value of Other. Let's also rename the gender, children, and education columns so they aren't in all caps."
   ]
  },
  {
   "cell_type": "code",
   "execution_count": 9,
   "id": "db7952f9",
   "metadata": {},
   "outputs": [],
   "source": [
    "df.rename(columns={\"GENDER\": \"Gender\", \"CHILDREN\": \"Children\", \"EDUCATION\": \"Education\"}, inplace=True)"
   ]
  },
  {
   "cell_type": "code",
   "execution_count": 10,
   "id": "38e7da32",
   "metadata": {},
   "outputs": [
    {
     "data": {
      "text/plain": [
       "('F', 191399.3262295082, -16040.342070773264)"
      ]
     },
     "execution_count": 10,
     "metadata": {},
     "output_type": "execute_result"
    }
   ],
   "source": [
    "mode_gender = df.Gender.mode()[0]\n",
    "mean_income = df.Annual_income.mean()\n",
    "mean_birthday = df.Birthday_count.mean()\n",
    "mode_gender, mean_income, mean_birthday"
   ]
  },
  {
   "cell_type": "code",
   "execution_count": 11,
   "id": "d3aab38f",
   "metadata": {},
   "outputs": [],
   "source": [
    "df[\"Gender\"].fillna(mode_gender, inplace=True)\n",
    "df[\"Annual_income\"].fillna(mean_income, inplace=True)\n",
    "df[\"Birthday_count\"].fillna(mean_birthday, inplace=True)\n",
    "df[\"Type_Occupation\"].fillna(\"Other\", inplace=True)"
   ]
  },
  {
   "cell_type": "code",
   "execution_count": 12,
   "id": "f46ace1f",
   "metadata": {},
   "outputs": [
    {
     "data": {
      "text/plain": [
       "Gender             0\n",
       "Car_Owner          0\n",
       "Propert_Owner      0\n",
       "Children           0\n",
       "Annual_income      0\n",
       "Type_Income        0\n",
       "Education          0\n",
       "Marital_status     0\n",
       "Housing_type       0\n",
       "Birthday_count     0\n",
       "Employed_days      0\n",
       "Type_Occupation    0\n",
       "Family_Members     0\n",
       "label              0\n",
       "dtype: int64"
      ]
     },
     "execution_count": 12,
     "metadata": {},
     "output_type": "execute_result"
    }
   ],
   "source": [
    "df.isna().sum()"
   ]
  },
  {
   "cell_type": "markdown",
   "id": "16095271",
   "metadata": {},
   "source": [
    "### Numeric features"
   ]
  },
  {
   "cell_type": "code",
   "execution_count": 13,
   "id": "4769f93c",
   "metadata": {},
   "outputs": [
    {
     "data": {
      "text/html": [
       "<div>\n",
       "<style scoped>\n",
       "    .dataframe tbody tr th:only-of-type {\n",
       "        vertical-align: middle;\n",
       "    }\n",
       "\n",
       "    .dataframe tbody tr th {\n",
       "        vertical-align: top;\n",
       "    }\n",
       "\n",
       "    .dataframe thead th {\n",
       "        text-align: right;\n",
       "    }\n",
       "</style>\n",
       "<table border=\"1\" class=\"dataframe\">\n",
       "  <thead>\n",
       "    <tr style=\"text-align: right;\">\n",
       "      <th></th>\n",
       "      <th>Children</th>\n",
       "      <th>Annual_income</th>\n",
       "      <th>Birthday_count</th>\n",
       "      <th>Employed_days</th>\n",
       "      <th>Family_Members</th>\n",
       "      <th>label</th>\n",
       "    </tr>\n",
       "  </thead>\n",
       "  <tbody>\n",
       "    <tr>\n",
       "      <th>count</th>\n",
       "      <td>1548.000000</td>\n",
       "      <td>1.548000e+03</td>\n",
       "      <td>1548.000000</td>\n",
       "      <td>1548.000000</td>\n",
       "      <td>1548.000000</td>\n",
       "      <td>1548.000000</td>\n",
       "    </tr>\n",
       "    <tr>\n",
       "      <th>mean</th>\n",
       "      <td>0.412791</td>\n",
       "      <td>1.913993e+05</td>\n",
       "      <td>-16040.342071</td>\n",
       "      <td>59364.689922</td>\n",
       "      <td>2.161499</td>\n",
       "      <td>0.113049</td>\n",
       "    </tr>\n",
       "    <tr>\n",
       "      <th>std</th>\n",
       "      <td>0.776691</td>\n",
       "      <td>1.124080e+05</td>\n",
       "      <td>4199.321477</td>\n",
       "      <td>137808.062701</td>\n",
       "      <td>0.947772</td>\n",
       "      <td>0.316755</td>\n",
       "    </tr>\n",
       "    <tr>\n",
       "      <th>min</th>\n",
       "      <td>0.000000</td>\n",
       "      <td>3.375000e+04</td>\n",
       "      <td>-24946.000000</td>\n",
       "      <td>-14887.000000</td>\n",
       "      <td>1.000000</td>\n",
       "      <td>0.000000</td>\n",
       "    </tr>\n",
       "    <tr>\n",
       "      <th>25%</th>\n",
       "      <td>0.000000</td>\n",
       "      <td>1.215000e+05</td>\n",
       "      <td>-19476.000000</td>\n",
       "      <td>-3174.500000</td>\n",
       "      <td>2.000000</td>\n",
       "      <td>0.000000</td>\n",
       "    </tr>\n",
       "    <tr>\n",
       "      <th>50%</th>\n",
       "      <td>0.000000</td>\n",
       "      <td>1.710000e+05</td>\n",
       "      <td>-15814.500000</td>\n",
       "      <td>-1565.000000</td>\n",
       "      <td>2.000000</td>\n",
       "      <td>0.000000</td>\n",
       "    </tr>\n",
       "    <tr>\n",
       "      <th>75%</th>\n",
       "      <td>1.000000</td>\n",
       "      <td>2.250000e+05</td>\n",
       "      <td>-12483.000000</td>\n",
       "      <td>-431.750000</td>\n",
       "      <td>3.000000</td>\n",
       "      <td>0.000000</td>\n",
       "    </tr>\n",
       "    <tr>\n",
       "      <th>max</th>\n",
       "      <td>14.000000</td>\n",
       "      <td>1.575000e+06</td>\n",
       "      <td>-7705.000000</td>\n",
       "      <td>365243.000000</td>\n",
       "      <td>15.000000</td>\n",
       "      <td>1.000000</td>\n",
       "    </tr>\n",
       "  </tbody>\n",
       "</table>\n",
       "</div>"
      ],
      "text/plain": [
       "          Children  Annual_income  Birthday_count  Employed_days  \\\n",
       "count  1548.000000   1.548000e+03     1548.000000    1548.000000   \n",
       "mean      0.412791   1.913993e+05   -16040.342071   59364.689922   \n",
       "std       0.776691   1.124080e+05     4199.321477  137808.062701   \n",
       "min       0.000000   3.375000e+04   -24946.000000  -14887.000000   \n",
       "25%       0.000000   1.215000e+05   -19476.000000   -3174.500000   \n",
       "50%       0.000000   1.710000e+05   -15814.500000   -1565.000000   \n",
       "75%       1.000000   2.250000e+05   -12483.000000    -431.750000   \n",
       "max      14.000000   1.575000e+06    -7705.000000  365243.000000   \n",
       "\n",
       "       Family_Members        label  \n",
       "count     1548.000000  1548.000000  \n",
       "mean         2.161499     0.113049  \n",
       "std          0.947772     0.316755  \n",
       "min          1.000000     0.000000  \n",
       "25%          2.000000     0.000000  \n",
       "50%          2.000000     0.000000  \n",
       "75%          3.000000     0.000000  \n",
       "max         15.000000     1.000000  "
      ]
     },
     "execution_count": 13,
     "metadata": {},
     "output_type": "execute_result"
    }
   ],
   "source": [
    "import numpy as np\n",
    "df.describe(include=np.number)"
   ]
  },
  {
   "cell_type": "code",
   "execution_count": 14,
   "id": "7b0ff061",
   "metadata": {},
   "outputs": [
    {
     "data": {
      "text/html": [
       "<div>\n",
       "<style scoped>\n",
       "    .dataframe tbody tr th:only-of-type {\n",
       "        vertical-align: middle;\n",
       "    }\n",
       "\n",
       "    .dataframe tbody tr th {\n",
       "        vertical-align: top;\n",
       "    }\n",
       "\n",
       "    .dataframe thead th {\n",
       "        text-align: right;\n",
       "    }\n",
       "</style>\n",
       "<table border=\"1\" class=\"dataframe\">\n",
       "  <thead>\n",
       "    <tr style=\"text-align: right;\">\n",
       "      <th></th>\n",
       "      <th>Gender</th>\n",
       "      <th>Car_Owner</th>\n",
       "      <th>Propert_Owner</th>\n",
       "      <th>Children</th>\n",
       "      <th>Annual_income</th>\n",
       "      <th>Type_Income</th>\n",
       "      <th>Education</th>\n",
       "      <th>Marital_status</th>\n",
       "      <th>Housing_type</th>\n",
       "      <th>Birthday_count</th>\n",
       "      <th>Employed_days</th>\n",
       "      <th>Type_Occupation</th>\n",
       "      <th>Family_Members</th>\n",
       "      <th>label</th>\n",
       "    </tr>\n",
       "  </thead>\n",
       "  <tbody>\n",
       "  </tbody>\n",
       "</table>\n",
       "</div>"
      ],
      "text/plain": [
       "Empty DataFrame\n",
       "Columns: [Gender, Car_Owner, Propert_Owner, Children, Annual_income, Type_Income, Education, Marital_status, Housing_type, Birthday_count, Employed_days, Type_Occupation, Family_Members, label]\n",
       "Index: []"
      ]
     },
     "execution_count": 14,
     "metadata": {},
     "output_type": "execute_result"
    }
   ],
   "source": [
    "df.query(\"Employed_days > 0 & Employed_days < 365243\")"
   ]
  },
  {
   "cell_type": "markdown",
   "id": "a6a415ba",
   "metadata": {},
   "source": [
    "Upon further inspection, it seems as though the employed days field is corrupt. Negative numbers are supposed to represent days employed while positive numbers should represent days unemployed. However, the only positive numbers in the column are 365243 which occurs 261 times. This is equal to 1000 years which is impossible. There are two potential options. Either assume they are all employed and set the Employed_days field for all such values to the mean of uncorrupted values or change the column to a binary employed or unemployed. I think it is safer to assume that the subjects in these rows were in fact unemployed but the number of days is incorrect so we will switch this to a binary column."
   ]
  },
  {
   "cell_type": "code",
   "execution_count": 15,
   "id": "d2874541",
   "metadata": {},
   "outputs": [
    {
     "data": {
      "text/html": [
       "<div>\n",
       "<style scoped>\n",
       "    .dataframe tbody tr th:only-of-type {\n",
       "        vertical-align: middle;\n",
       "    }\n",
       "\n",
       "    .dataframe tbody tr th {\n",
       "        vertical-align: top;\n",
       "    }\n",
       "\n",
       "    .dataframe thead th {\n",
       "        text-align: right;\n",
       "    }\n",
       "</style>\n",
       "<table border=\"1\" class=\"dataframe\">\n",
       "  <thead>\n",
       "    <tr style=\"text-align: right;\">\n",
       "      <th></th>\n",
       "      <th>Gender</th>\n",
       "      <th>Car_Owner</th>\n",
       "      <th>Propert_Owner</th>\n",
       "      <th>Children</th>\n",
       "      <th>Annual_income</th>\n",
       "      <th>Type_Income</th>\n",
       "      <th>Education</th>\n",
       "      <th>Marital_status</th>\n",
       "      <th>Housing_type</th>\n",
       "      <th>Birthday_count</th>\n",
       "      <th>Type_Occupation</th>\n",
       "      <th>Family_Members</th>\n",
       "      <th>label</th>\n",
       "      <th>Employed</th>\n",
       "    </tr>\n",
       "  </thead>\n",
       "  <tbody>\n",
       "    <tr>\n",
       "      <th>0</th>\n",
       "      <td>M</td>\n",
       "      <td>Y</td>\n",
       "      <td>Y</td>\n",
       "      <td>0</td>\n",
       "      <td>180000.00000</td>\n",
       "      <td>Pensioner</td>\n",
       "      <td>Higher education</td>\n",
       "      <td>Married</td>\n",
       "      <td>House / apartment</td>\n",
       "      <td>-18772.000000</td>\n",
       "      <td>Other</td>\n",
       "      <td>2</td>\n",
       "      <td>1</td>\n",
       "      <td>N</td>\n",
       "    </tr>\n",
       "    <tr>\n",
       "      <th>1</th>\n",
       "      <td>F</td>\n",
       "      <td>Y</td>\n",
       "      <td>N</td>\n",
       "      <td>0</td>\n",
       "      <td>315000.00000</td>\n",
       "      <td>Commercial associate</td>\n",
       "      <td>Higher education</td>\n",
       "      <td>Married</td>\n",
       "      <td>House / apartment</td>\n",
       "      <td>-13557.000000</td>\n",
       "      <td>Other</td>\n",
       "      <td>2</td>\n",
       "      <td>1</td>\n",
       "      <td>Y</td>\n",
       "    </tr>\n",
       "    <tr>\n",
       "      <th>2</th>\n",
       "      <td>F</td>\n",
       "      <td>Y</td>\n",
       "      <td>N</td>\n",
       "      <td>0</td>\n",
       "      <td>315000.00000</td>\n",
       "      <td>Commercial associate</td>\n",
       "      <td>Higher education</td>\n",
       "      <td>Married</td>\n",
       "      <td>House / apartment</td>\n",
       "      <td>-16040.342071</td>\n",
       "      <td>Other</td>\n",
       "      <td>2</td>\n",
       "      <td>1</td>\n",
       "      <td>Y</td>\n",
       "    </tr>\n",
       "    <tr>\n",
       "      <th>3</th>\n",
       "      <td>F</td>\n",
       "      <td>Y</td>\n",
       "      <td>N</td>\n",
       "      <td>0</td>\n",
       "      <td>191399.32623</td>\n",
       "      <td>Commercial associate</td>\n",
       "      <td>Higher education</td>\n",
       "      <td>Married</td>\n",
       "      <td>House / apartment</td>\n",
       "      <td>-13557.000000</td>\n",
       "      <td>Other</td>\n",
       "      <td>2</td>\n",
       "      <td>1</td>\n",
       "      <td>Y</td>\n",
       "    </tr>\n",
       "    <tr>\n",
       "      <th>4</th>\n",
       "      <td>F</td>\n",
       "      <td>Y</td>\n",
       "      <td>N</td>\n",
       "      <td>0</td>\n",
       "      <td>315000.00000</td>\n",
       "      <td>Commercial associate</td>\n",
       "      <td>Higher education</td>\n",
       "      <td>Married</td>\n",
       "      <td>House / apartment</td>\n",
       "      <td>-13557.000000</td>\n",
       "      <td>Other</td>\n",
       "      <td>2</td>\n",
       "      <td>1</td>\n",
       "      <td>Y</td>\n",
       "    </tr>\n",
       "    <tr>\n",
       "      <th>...</th>\n",
       "      <td>...</td>\n",
       "      <td>...</td>\n",
       "      <td>...</td>\n",
       "      <td>...</td>\n",
       "      <td>...</td>\n",
       "      <td>...</td>\n",
       "      <td>...</td>\n",
       "      <td>...</td>\n",
       "      <td>...</td>\n",
       "      <td>...</td>\n",
       "      <td>...</td>\n",
       "      <td>...</td>\n",
       "      <td>...</td>\n",
       "      <td>...</td>\n",
       "    </tr>\n",
       "    <tr>\n",
       "      <th>1543</th>\n",
       "      <td>F</td>\n",
       "      <td>N</td>\n",
       "      <td>Y</td>\n",
       "      <td>0</td>\n",
       "      <td>191399.32623</td>\n",
       "      <td>Commercial associate</td>\n",
       "      <td>Higher education</td>\n",
       "      <td>Married</td>\n",
       "      <td>House / apartment</td>\n",
       "      <td>-11957.000000</td>\n",
       "      <td>Managers</td>\n",
       "      <td>2</td>\n",
       "      <td>0</td>\n",
       "      <td>Y</td>\n",
       "    </tr>\n",
       "    <tr>\n",
       "      <th>1544</th>\n",
       "      <td>F</td>\n",
       "      <td>N</td>\n",
       "      <td>N</td>\n",
       "      <td>0</td>\n",
       "      <td>225000.00000</td>\n",
       "      <td>Commercial associate</td>\n",
       "      <td>Incomplete higher</td>\n",
       "      <td>Single / not married</td>\n",
       "      <td>House / apartment</td>\n",
       "      <td>-10229.000000</td>\n",
       "      <td>Accountants</td>\n",
       "      <td>1</td>\n",
       "      <td>0</td>\n",
       "      <td>Y</td>\n",
       "    </tr>\n",
       "    <tr>\n",
       "      <th>1545</th>\n",
       "      <td>M</td>\n",
       "      <td>Y</td>\n",
       "      <td>Y</td>\n",
       "      <td>2</td>\n",
       "      <td>180000.00000</td>\n",
       "      <td>Working</td>\n",
       "      <td>Higher education</td>\n",
       "      <td>Married</td>\n",
       "      <td>House / apartment</td>\n",
       "      <td>-13174.000000</td>\n",
       "      <td>Managers</td>\n",
       "      <td>4</td>\n",
       "      <td>0</td>\n",
       "      <td>Y</td>\n",
       "    </tr>\n",
       "    <tr>\n",
       "      <th>1546</th>\n",
       "      <td>M</td>\n",
       "      <td>Y</td>\n",
       "      <td>N</td>\n",
       "      <td>0</td>\n",
       "      <td>270000.00000</td>\n",
       "      <td>Working</td>\n",
       "      <td>Secondary / secondary special</td>\n",
       "      <td>Civil marriage</td>\n",
       "      <td>House / apartment</td>\n",
       "      <td>-15292.000000</td>\n",
       "      <td>Drivers</td>\n",
       "      <td>2</td>\n",
       "      <td>0</td>\n",
       "      <td>Y</td>\n",
       "    </tr>\n",
       "    <tr>\n",
       "      <th>1547</th>\n",
       "      <td>F</td>\n",
       "      <td>Y</td>\n",
       "      <td>Y</td>\n",
       "      <td>0</td>\n",
       "      <td>225000.00000</td>\n",
       "      <td>Working</td>\n",
       "      <td>Higher education</td>\n",
       "      <td>Married</td>\n",
       "      <td>House / apartment</td>\n",
       "      <td>-16601.000000</td>\n",
       "      <td>Other</td>\n",
       "      <td>2</td>\n",
       "      <td>0</td>\n",
       "      <td>Y</td>\n",
       "    </tr>\n",
       "  </tbody>\n",
       "</table>\n",
       "<p>1548 rows × 14 columns</p>\n",
       "</div>"
      ],
      "text/plain": [
       "     Gender Car_Owner Propert_Owner  Children  Annual_income  \\\n",
       "0         M         Y             Y         0   180000.00000   \n",
       "1         F         Y             N         0   315000.00000   \n",
       "2         F         Y             N         0   315000.00000   \n",
       "3         F         Y             N         0   191399.32623   \n",
       "4         F         Y             N         0   315000.00000   \n",
       "...     ...       ...           ...       ...            ...   \n",
       "1543      F         N             Y         0   191399.32623   \n",
       "1544      F         N             N         0   225000.00000   \n",
       "1545      M         Y             Y         2   180000.00000   \n",
       "1546      M         Y             N         0   270000.00000   \n",
       "1547      F         Y             Y         0   225000.00000   \n",
       "\n",
       "               Type_Income                      Education  \\\n",
       "0                Pensioner               Higher education   \n",
       "1     Commercial associate               Higher education   \n",
       "2     Commercial associate               Higher education   \n",
       "3     Commercial associate               Higher education   \n",
       "4     Commercial associate               Higher education   \n",
       "...                    ...                            ...   \n",
       "1543  Commercial associate               Higher education   \n",
       "1544  Commercial associate              Incomplete higher   \n",
       "1545               Working               Higher education   \n",
       "1546               Working  Secondary / secondary special   \n",
       "1547               Working               Higher education   \n",
       "\n",
       "            Marital_status       Housing_type  Birthday_count Type_Occupation  \\\n",
       "0                  Married  House / apartment   -18772.000000           Other   \n",
       "1                  Married  House / apartment   -13557.000000           Other   \n",
       "2                  Married  House / apartment   -16040.342071           Other   \n",
       "3                  Married  House / apartment   -13557.000000           Other   \n",
       "4                  Married  House / apartment   -13557.000000           Other   \n",
       "...                    ...                ...             ...             ...   \n",
       "1543               Married  House / apartment   -11957.000000        Managers   \n",
       "1544  Single / not married  House / apartment   -10229.000000     Accountants   \n",
       "1545               Married  House / apartment   -13174.000000        Managers   \n",
       "1546        Civil marriage  House / apartment   -15292.000000         Drivers   \n",
       "1547               Married  House / apartment   -16601.000000           Other   \n",
       "\n",
       "      Family_Members  label Employed  \n",
       "0                  2      1        N  \n",
       "1                  2      1        Y  \n",
       "2                  2      1        Y  \n",
       "3                  2      1        Y  \n",
       "4                  2      1        Y  \n",
       "...              ...    ...      ...  \n",
       "1543               2      0        Y  \n",
       "1544               1      0        Y  \n",
       "1545               4      0        Y  \n",
       "1546               2      0        Y  \n",
       "1547               2      0        Y  \n",
       "\n",
       "[1548 rows x 14 columns]"
      ]
     },
     "execution_count": 15,
     "metadata": {},
     "output_type": "execute_result"
    }
   ],
   "source": [
    "df[\"Employed\"] = np.where(df.Employed_days < 0, \"Y\", \"N\")\n",
    "df.drop(\"Employed_days\", axis=1, inplace=True)\n",
    "df"
   ]
  },
  {
   "cell_type": "markdown",
   "id": "203d3f61",
   "metadata": {},
   "source": [
    "Birthday count is also an intrisicly strange field. Let's change that to Age_days and update the values accordingly (make them positive)."
   ]
  },
  {
   "cell_type": "code",
   "execution_count": 16,
   "id": "da8cb746",
   "metadata": {},
   "outputs": [
    {
     "data": {
      "text/plain": [
       "0       18772.000000\n",
       "1       13557.000000\n",
       "2       16040.342071\n",
       "3       13557.000000\n",
       "4       13557.000000\n",
       "            ...     \n",
       "1543    11957.000000\n",
       "1544    10229.000000\n",
       "1545    13174.000000\n",
       "1546    15292.000000\n",
       "1547    16601.000000\n",
       "Name: Age_days, Length: 1548, dtype: float64"
      ]
     },
     "execution_count": 16,
     "metadata": {},
     "output_type": "execute_result"
    }
   ],
   "source": [
    "df.rename(columns={\"Birthday_count\": \"Age_days\"}, inplace=True)\n",
    "df[\"Age_days\"] = df.Age_days * -1\n",
    "df.Age_days"
   ]
  },
  {
   "cell_type": "markdown",
   "id": "9bdf0099",
   "metadata": {},
   "source": [
    "Lastly, since salary does not scale linearly, let's apply a log to that to make it a more linear distribution. The distributions before and after the log is applied are shown below."
   ]
  },
  {
   "cell_type": "code",
   "execution_count": 17,
   "id": "aa9160e3",
   "metadata": {},
   "outputs": [
    {
     "data": {
      "text/plain": [
       "<AxesSubplot: >"
      ]
     },
     "execution_count": 17,
     "metadata": {},
     "output_type": "execute_result"
    },
    {
     "data": {
      "image/png": "[encoded data removed]",
      "text/plain": [
       "<Figure size 432x288 with 1 Axes>"
      ]
     },
     "metadata": {
      "needs_background": "light"
     },
     "output_type": "display_data"
    }
   ],
   "source": [
    "df.Annual_income.hist()"
   ]
  },
  {
   "cell_type": "code",
   "execution_count": 18,
   "id": "dd7409ef",
   "metadata": {},
   "outputs": [
    {
     "data": {
      "text/plain": [
       "<AxesSubplot: >"
      ]
     },
     "execution_count": 18,
     "metadata": {},
     "output_type": "execute_result"
    },
    {
     "data": {
      "image/png": "[encoded data removed]",
      "text/plain": [
       "<Figure size 432x288 with 1 Axes>"
      ]
     },
     "metadata": {
      "needs_background": "light"
     },
     "output_type": "display_data"
    }
   ],
   "source": [
    "np.log1p(df.Annual_income).hist()"
   ]
  },
  {
   "cell_type": "code",
   "execution_count": 19,
   "id": "3f3ba439",
   "metadata": {},
   "outputs": [],
   "source": [
    "# Apply this change to df\n",
    "df[\"log_income\"] = np.log1p(df.Annual_income)\n",
    "df.drop(\"Annual_income\", axis=1, inplace=True)"
   ]
  },
  {
   "cell_type": "markdown",
   "id": "3c04bab8",
   "metadata": {},
   "source": [
    "### Categorical Variables"
   ]
  },
  {
   "cell_type": "code",
   "execution_count": 20,
   "id": "f22b3fc2",
   "metadata": {},
   "outputs": [
    {
     "data": {
      "text/plain": [
       "Index(['Gender', 'Car_Owner', 'Property_owner', 'Children', 'Type_Income',\n",
       "       'Education', 'Marital_status', 'Housing_type', 'Age_days',\n",
       "       'Type_Occupation', 'Family_Members', 'label', 'Employed', 'log_income'],\n",
       "      dtype='object')"
      ]
     },
     "execution_count": 20,
     "metadata": {},
     "output_type": "execute_result"
    }
   ],
   "source": [
    "df.rename(columns={\"Propert_Owner\": \"Property_owner\"}, inplace=True)\n",
    "df.columns"
   ]
  },
  {
   "cell_type": "markdown",
   "id": "cc3c1690",
   "metadata": {},
   "source": [
    "Because this is just for practice, we are going to limit the number of features to make things simpler. This will include dropping some columns and thinning out some of the categorical columns."
   ]
  },
  {
   "cell_type": "code",
   "execution_count": 21,
   "id": "82c8bb94",
   "metadata": {},
   "outputs": [],
   "source": [
    "# Used value_counts() function to evaluate how many unique values each categorial var had\n",
    "cols_to_drop = [\"Type_Income\", \"Housing_type\", \"Type_Occupation\"]\n",
    "df.drop(columns=cols_to_drop, inplace=True)"
   ]
  },
  {
   "cell_type": "markdown",
   "id": "3026b0df",
   "metadata": {},
   "source": [
    "Let's now update education to be higher education or not higher education. We will take a similar strategy with marital status, setting it to married or not."
   ]
  },
  {
   "cell_type": "code",
   "execution_count": 22,
   "id": "e73e0da5",
   "metadata": {},
   "outputs": [],
   "source": [
    "df[\"Education\"] = df.Education == \"Higher education\"\n",
    "df.rename(columns={\"Education\": \"Higher_education\"}, inplace=True)\n",
    "df[\"Higher_education\"] = np.where(df.Higher_education, \"Y\", \"N\")"
   ]
  },
  {
   "cell_type": "code",
   "execution_count": 23,
   "id": "a7cda1bb",
   "metadata": {},
   "outputs": [],
   "source": [
    "df[\"Marital_status\"] = np.where(df.Marital_status == \"Married\", \"Y\", \"N\")\n",
    "df.rename(columns={\"Marital_status\": \"Married\"}, inplace=True)"
   ]
  },
  {
   "cell_type": "code",
   "execution_count": 24,
   "id": "e4b9de44",
   "metadata": {},
   "outputs": [],
   "source": [
    "df_final = pd.get_dummies(df, columns=[\"Gender\", \"Car_Owner\", \"Property_owner\", \"Higher_education\", \"Married\", \"Employed\"], drop_first=True)"
   ]
  },
  {
   "cell_type": "markdown",
   "id": "e7a4c1e0",
   "metadata": {},
   "source": [
    "Lastly, for clarity let's move the target to the last column"
   ]
  },
  {
   "cell_type": "code",
   "execution_count": 25,
   "id": "0f405226",
   "metadata": {},
   "outputs": [
    {
     "data": {
      "text/html": [
       "<div>\n",
       "<style scoped>\n",
       "    .dataframe tbody tr th:only-of-type {\n",
       "        vertical-align: middle;\n",
       "    }\n",
       "\n",
       "    .dataframe tbody tr th {\n",
       "        vertical-align: top;\n",
       "    }\n",
       "\n",
       "    .dataframe thead th {\n",
       "        text-align: right;\n",
       "    }\n",
       "</style>\n",
       "<table border=\"1\" class=\"dataframe\">\n",
       "  <thead>\n",
       "    <tr style=\"text-align: right;\">\n",
       "      <th></th>\n",
       "      <th>Children</th>\n",
       "      <th>Age_days</th>\n",
       "      <th>Family_Members</th>\n",
       "      <th>log_income</th>\n",
       "      <th>Gender_M</th>\n",
       "      <th>Car_Owner_Y</th>\n",
       "      <th>Property_owner_Y</th>\n",
       "      <th>Higher_education_Y</th>\n",
       "      <th>Married_Y</th>\n",
       "      <th>Employed_Y</th>\n",
       "      <th>target</th>\n",
       "    </tr>\n",
       "  </thead>\n",
       "  <tbody>\n",
       "    <tr>\n",
       "      <th>0</th>\n",
       "      <td>0</td>\n",
       "      <td>18772.000000</td>\n",
       "      <td>2</td>\n",
       "      <td>12.100718</td>\n",
       "      <td>1</td>\n",
       "      <td>1</td>\n",
       "      <td>1</td>\n",
       "      <td>1</td>\n",
       "      <td>1</td>\n",
       "      <td>0</td>\n",
       "      <td>1</td>\n",
       "    </tr>\n",
       "    <tr>\n",
       "      <th>1</th>\n",
       "      <td>0</td>\n",
       "      <td>13557.000000</td>\n",
       "      <td>2</td>\n",
       "      <td>12.660331</td>\n",
       "      <td>0</td>\n",
       "      <td>1</td>\n",
       "      <td>0</td>\n",
       "      <td>1</td>\n",
       "      <td>1</td>\n",
       "      <td>1</td>\n",
       "      <td>1</td>\n",
       "    </tr>\n",
       "    <tr>\n",
       "      <th>2</th>\n",
       "      <td>0</td>\n",
       "      <td>16040.342071</td>\n",
       "      <td>2</td>\n",
       "      <td>12.660331</td>\n",
       "      <td>0</td>\n",
       "      <td>1</td>\n",
       "      <td>0</td>\n",
       "      <td>1</td>\n",
       "      <td>1</td>\n",
       "      <td>1</td>\n",
       "      <td>1</td>\n",
       "    </tr>\n",
       "    <tr>\n",
       "      <th>3</th>\n",
       "      <td>0</td>\n",
       "      <td>13557.000000</td>\n",
       "      <td>2</td>\n",
       "      <td>12.162122</td>\n",
       "      <td>0</td>\n",
       "      <td>1</td>\n",
       "      <td>0</td>\n",
       "      <td>1</td>\n",
       "      <td>1</td>\n",
       "      <td>1</td>\n",
       "      <td>1</td>\n",
       "    </tr>\n",
       "    <tr>\n",
       "      <th>4</th>\n",
       "      <td>0</td>\n",
       "      <td>13557.000000</td>\n",
       "      <td>2</td>\n",
       "      <td>12.660331</td>\n",
       "      <td>0</td>\n",
       "      <td>1</td>\n",
       "      <td>0</td>\n",
       "      <td>1</td>\n",
       "      <td>1</td>\n",
       "      <td>1</td>\n",
       "      <td>1</td>\n",
       "    </tr>\n",
       "    <tr>\n",
       "      <th>...</th>\n",
       "      <td>...</td>\n",
       "      <td>...</td>\n",
       "      <td>...</td>\n",
       "      <td>...</td>\n",
       "      <td>...</td>\n",
       "      <td>...</td>\n",
       "      <td>...</td>\n",
       "      <td>...</td>\n",
       "      <td>...</td>\n",
       "      <td>...</td>\n",
       "      <td>...</td>\n",
       "    </tr>\n",
       "    <tr>\n",
       "      <th>1543</th>\n",
       "      <td>0</td>\n",
       "      <td>11957.000000</td>\n",
       "      <td>2</td>\n",
       "      <td>12.162122</td>\n",
       "      <td>0</td>\n",
       "      <td>0</td>\n",
       "      <td>1</td>\n",
       "      <td>1</td>\n",
       "      <td>1</td>\n",
       "      <td>1</td>\n",
       "      <td>0</td>\n",
       "    </tr>\n",
       "    <tr>\n",
       "      <th>1544</th>\n",
       "      <td>0</td>\n",
       "      <td>10229.000000</td>\n",
       "      <td>1</td>\n",
       "      <td>12.323860</td>\n",
       "      <td>0</td>\n",
       "      <td>0</td>\n",
       "      <td>0</td>\n",
       "      <td>0</td>\n",
       "      <td>0</td>\n",
       "      <td>1</td>\n",
       "      <td>0</td>\n",
       "    </tr>\n",
       "    <tr>\n",
       "      <th>1545</th>\n",
       "      <td>2</td>\n",
       "      <td>13174.000000</td>\n",
       "      <td>4</td>\n",
       "      <td>12.100718</td>\n",
       "      <td>1</td>\n",
       "      <td>1</td>\n",
       "      <td>1</td>\n",
       "      <td>1</td>\n",
       "      <td>1</td>\n",
       "      <td>1</td>\n",
       "      <td>0</td>\n",
       "    </tr>\n",
       "    <tr>\n",
       "      <th>1546</th>\n",
       "      <td>0</td>\n",
       "      <td>15292.000000</td>\n",
       "      <td>2</td>\n",
       "      <td>12.506181</td>\n",
       "      <td>1</td>\n",
       "      <td>1</td>\n",
       "      <td>0</td>\n",
       "      <td>0</td>\n",
       "      <td>0</td>\n",
       "      <td>1</td>\n",
       "      <td>0</td>\n",
       "    </tr>\n",
       "    <tr>\n",
       "      <th>1547</th>\n",
       "      <td>0</td>\n",
       "      <td>16601.000000</td>\n",
       "      <td>2</td>\n",
       "      <td>12.323860</td>\n",
       "      <td>0</td>\n",
       "      <td>1</td>\n",
       "      <td>1</td>\n",
       "      <td>1</td>\n",
       "      <td>1</td>\n",
       "      <td>1</td>\n",
       "      <td>0</td>\n",
       "    </tr>\n",
       "  </tbody>\n",
       "</table>\n",
       "<p>1548 rows × 11 columns</p>\n",
       "</div>"
      ],
      "text/plain": [
       "      Children      Age_days  Family_Members  log_income  Gender_M  \\\n",
       "0            0  18772.000000               2   12.100718         1   \n",
       "1            0  13557.000000               2   12.660331         0   \n",
       "2            0  16040.342071               2   12.660331         0   \n",
       "3            0  13557.000000               2   12.162122         0   \n",
       "4            0  13557.000000               2   12.660331         0   \n",
       "...        ...           ...             ...         ...       ...   \n",
       "1543         0  11957.000000               2   12.162122         0   \n",
       "1544         0  10229.000000               1   12.323860         0   \n",
       "1545         2  13174.000000               4   12.100718         1   \n",
       "1546         0  15292.000000               2   12.506181         1   \n",
       "1547         0  16601.000000               2   12.323860         0   \n",
       "\n",
       "      Car_Owner_Y  Property_owner_Y  Higher_education_Y  Married_Y  \\\n",
       "0               1                 1                   1          1   \n",
       "1               1                 0                   1          1   \n",
       "2               1                 0                   1          1   \n",
       "3               1                 0                   1          1   \n",
       "4               1                 0                   1          1   \n",
       "...           ...               ...                 ...        ...   \n",
       "1543            0                 1                   1          1   \n",
       "1544            0                 0                   0          0   \n",
       "1545            1                 1                   1          1   \n",
       "1546            1                 0                   0          0   \n",
       "1547            1                 1                   1          1   \n",
       "\n",
       "      Employed_Y  target  \n",
       "0              0       1  \n",
       "1              1       1  \n",
       "2              1       1  \n",
       "3              1       1  \n",
       "4              1       1  \n",
       "...          ...     ...  \n",
       "1543           1       0  \n",
       "1544           1       0  \n",
       "1545           1       0  \n",
       "1546           1       0  \n",
       "1547           1       0  \n",
       "\n",
       "[1548 rows x 11 columns]"
      ]
     },
     "execution_count": 25,
     "metadata": {},
     "output_type": "execute_result"
    }
   ],
   "source": [
    "target = df_final.pop(\"label\")\n",
    "df_final.insert(df_final.shape[1], \"target\", target)\n",
    "df_final"
   ]
  },
  {
   "cell_type": "markdown",
   "id": "8130a4c7",
   "metadata": {},
   "source": [
    "## Linear Regression"
   ]
  },
  {
   "cell_type": "code",
   "execution_count": 26,
   "id": "c5af17a1",
   "metadata": {},
   "outputs": [],
   "source": [
    "import torch"
   ]
  },
  {
   "cell_type": "code",
   "execution_count": 27,
   "id": "e685fe41",
   "metadata": {},
   "outputs": [
    {
     "data": {
      "text/plain": [
       "(torch.Size([1548, 10]), torch.Size([1548]))"
      ]
     },
     "execution_count": 27,
     "metadata": {},
     "output_type": "execute_result"
    }
   ],
   "source": [
    "t_dep = torch.tensor(df_final.target, dtype=torch.float)\n",
    "t_ind = torch.tensor(df_final.iloc[:,:-1].values, dtype=torch.float)\n",
    "t_ind.shape, t_dep.shape"
   ]
  },
  {
   "cell_type": "markdown",
   "id": "57dcc564",
   "metadata": {},
   "source": [
    "To ensure that the model isn't dominated by one column, we will divide each of the columns by their maximum value. This will make all values in the table between 0 and 1."
   ]
  },
  {
   "cell_type": "code",
   "execution_count": 28,
   "id": "9bbedee6",
   "metadata": {},
   "outputs": [],
   "source": [
    "values, _ = t_ind.max(axis=0)\n",
    "t_ind = t_ind / values"
   ]
  },
  {
   "cell_type": "markdown",
   "id": "488600cd",
   "metadata": {},
   "source": [
    "### Initial Predictions"
   ]
  },
  {
   "cell_type": "code",
   "execution_count": 29,
   "id": "61d93eff",
   "metadata": {},
   "outputs": [
    {
     "data": {
      "text/plain": [
       "tensor([-0.4539, -0.0976, -1.5115, -0.2833, -1.1123,  0.0036, -0.2690,  0.1931,\n",
       "        -0.7669,  1.6785])"
      ]
     },
     "execution_count": 29,
     "metadata": {},
     "output_type": "execute_result"
    }
   ],
   "source": [
    "torch.manual_seed(1234)\n",
    "coefs = torch.randn(t_ind.shape[1]) - 0.5\n",
    "coefs"
   ]
  },
  {
   "cell_type": "code",
   "execution_count": 30,
   "id": "7645dace",
   "metadata": {},
   "outputs": [
    {
     "data": {
      "text/plain": [
       "tensor(0.7468)"
      ]
     },
     "execution_count": 30,
     "metadata": {},
     "output_type": "execute_result"
    }
   ],
   "source": [
    "first_pred = t_ind@coefs\n",
    "((first_pred > 0.5) == t_dep.bool()).float().mean()"
   ]
  },
  {
   "cell_type": "code",
   "execution_count": 31,
   "id": "e1735295",
   "metadata": {},
   "outputs": [],
   "source": [
    "def calc_accuracy(preds, targets):\n",
    "    return ((preds > 0.5) == targets.bool()).float().mean()"
   ]
  },
  {
   "cell_type": "markdown",
   "id": "8756758c",
   "metadata": {},
   "source": [
    "We got lucky with our initial coefficients and have an accuracy of 75%. We can improve this by performing gradient descent."
   ]
  },
  {
   "cell_type": "markdown",
   "id": "7c2d5941",
   "metadata": {},
   "source": [
    "### Split Data into Test / Validation Sets"
   ]
  },
  {
   "cell_type": "code",
   "execution_count": 32,
   "id": "a3547218",
   "metadata": {},
   "outputs": [],
   "source": [
    "from fastai.data.transforms import RandomSplitter\n",
    "trn_split,val_split=RandomSplitter(seed=2)(df_final)"
   ]
  },
  {
   "cell_type": "code",
   "execution_count": 33,
   "id": "f251b817",
   "metadata": {},
   "outputs": [
    {
     "data": {
      "text/plain": [
       "(torch.Size([1239, 10]), torch.Size([309, 10]))"
      ]
     },
     "execution_count": 33,
     "metadata": {},
     "output_type": "execute_result"
    }
   ],
   "source": [
    "trn_indep,val_indep = t_ind[trn_split],t_ind[val_split]\n",
    "trn_dep,val_dep = t_dep[trn_split],t_dep[val_split]\n",
    "trn_indep.shape, val_indep.shape"
   ]
  },
  {
   "cell_type": "markdown",
   "id": "44c51f7e",
   "metadata": {},
   "source": [
    "### Gradient Descent"
   ]
  },
  {
   "cell_type": "code",
   "execution_count": 34,
   "id": "85937d80",
   "metadata": {},
   "outputs": [],
   "source": [
    "def init_coeffs(n_coeff): return (torch.rand(n_coeff)-0.5).requires_grad_()"
   ]
  },
  {
   "cell_type": "code",
   "execution_count": 35,
   "id": "6eb7fd67",
   "metadata": {},
   "outputs": [],
   "source": [
    "def calc_preds(coefs, data): return torch.sigmoid(data@coefs)"
   ]
  },
  {
   "cell_type": "code",
   "execution_count": 36,
   "id": "ed3021cc",
   "metadata": {},
   "outputs": [],
   "source": [
    "def calc_loss(coefs, data, targets): return torch.nn.functional.mse_loss(calc_preds(coefs,data), targets)"
   ]
  },
  {
   "cell_type": "code",
   "execution_count": 37,
   "id": "8d8ff69e",
   "metadata": {},
   "outputs": [],
   "source": [
    "def one_epoch(coefs, lr):\n",
    "    loss = calc_loss(coefs, trn_indep, trn_dep)\n",
    "    loss.backward()\n",
    "    with torch.no_grad():\n",
    "        coefs.sub_(coefs.grad * lr)\n",
    "        coefs.grad.zero_()\n",
    "    print(f\"{loss:.3f}\", end=\"; \")"
   ]
  },
  {
   "cell_type": "code",
   "execution_count": 38,
   "id": "6c906d98",
   "metadata": {},
   "outputs": [],
   "source": [
    "def train_model(data, targets, lr=0.01, epochs=20):\n",
    "    torch.manual_seed(90)\n",
    "    coefs = init_coeffs(data.shape[1])\n",
    "    for i in range(epochs): one_epoch(coefs, lr)\n",
    "    return coefs"
   ]
  },
  {
   "cell_type": "code",
   "execution_count": 39,
   "id": "5c921450",
   "metadata": {},
   "outputs": [
    {
     "name": "stdout",
     "output_type": "stream",
     "text": [
      "0.275; 0.101; 0.100; 0.100; 0.100; 0.100; 0.100; 0.100; 0.100; 0.099; 0.099; 0.099; 0.099; 0.099; 0.099; 0.099; 0.099; 0.099; 0.099; 0.098; "
     ]
    }
   ],
   "source": [
    "trained_coefs = train_model(trn_indep, trn_dep, lr=5)"
   ]
  },
  {
   "cell_type": "code",
   "execution_count": 40,
   "id": "89c860b8",
   "metadata": {},
   "outputs": [
    {
     "data": {
      "text/plain": [
       "tensor([-0.3383, -0.4191, -0.2569, -0.6335, -0.3041, -0.4412, -0.5003,  0.2381,\n",
       "        -0.3809, -0.8993], requires_grad=True)"
      ]
     },
     "execution_count": 40,
     "metadata": {},
     "output_type": "execute_result"
    }
   ],
   "source": [
    "trained_coefs"
   ]
  },
  {
   "cell_type": "code",
   "execution_count": 41,
   "id": "0ee025d1",
   "metadata": {},
   "outputs": [
    {
     "data": {
      "text/plain": [
       "tensor(0.8673)"
      ]
     },
     "execution_count": 41,
     "metadata": {},
     "output_type": "execute_result"
    }
   ],
   "source": [
    "calc_accuracy(calc_preds(trained_coefs, val_indep), val_dep)"
   ]
  },
  {
   "cell_type": "markdown",
   "id": "53f30b05",
   "metadata": {},
   "source": [
    "After gradient descent, our accuracy is now up to almost 87%! Now let's try using a neural network to see if we can improve our result."
   ]
  },
  {
   "cell_type": "markdown",
   "id": "8bc284a3",
   "metadata": {},
   "source": [
    "## Neural Network"
   ]
  },
  {
   "cell_type": "markdown",
   "id": "0e79cbcc",
   "metadata": {},
   "source": [
    "Since we are using neural networks, we should reshape our targets to be column matrices."
   ]
  },
  {
   "cell_type": "code",
   "execution_count": 42,
   "id": "e5aedcdd",
   "metadata": {},
   "outputs": [],
   "source": [
    "trn_dep = trn_dep.reshape(-1, 1)\n",
    "val_dep = val_dep.reshape(-1, 1)"
   ]
  },
  {
   "cell_type": "code",
   "execution_count": 43,
   "id": "e0c6ca3a",
   "metadata": {},
   "outputs": [],
   "source": [
    "def init_coefs_nn(n_coef, n_hidden=20):\n",
    "    layer1 = (torch.randn(n_coef, n_hidden) - 0.5).requires_grad_() # matrix of shape (n_coef, n_hidden)\n",
    "    layer2 = (torch.randn(n_hidden, 1) - 0.5).requires_grad_() # used to map hidden layers to final output\n",
    "    const = torch.rand(1)[0].requires_grad_()\n",
    "    return layer1, layer2, const"
   ]
  },
  {
   "cell_type": "code",
   "execution_count": 44,
   "id": "9c67b249",
   "metadata": {},
   "outputs": [],
   "source": [
    "def calc_preds_nn(coefs, data):\n",
    "    l1, l2, c = coefs\n",
    "    layer1 = torch.nn.ReLU()(data@l1)\n",
    "    return torch.sigmoid(layer1@l2 + c)"
   ]
  },
  {
   "cell_type": "code",
   "execution_count": 45,
   "id": "018b1ecc",
   "metadata": {},
   "outputs": [],
   "source": [
    "def calc_loss_nn(coefs, data, targets): return torch.nn.functional.mse_loss(calc_preds_nn(coefs,data), targets)"
   ]
  },
  {
   "cell_type": "code",
   "execution_count": 46,
   "id": "f4bdb7d9",
   "metadata": {},
   "outputs": [],
   "source": [
    "def one_epoch_nn(coefs, lr):\n",
    "    loss = calc_loss_nn(coefs, trn_indep, trn_dep)\n",
    "    loss.backward()\n",
    "    with torch.no_grad():\n",
    "        for layer in coefs:\n",
    "            layer.sub_(layer.grad * lr)\n",
    "            layer.grad.zero_()\n",
    "    print(f\"{loss:.3f}\", end=\"; \")"
   ]
  },
  {
   "cell_type": "code",
   "execution_count": 47,
   "id": "4e059c92",
   "metadata": {},
   "outputs": [],
   "source": [
    "def train_model_nn(data, targets, lr=0.01, epochs=20):\n",
    "    torch.manual_seed(1234)\n",
    "    coefs = init_coefs_nn(data.shape[1])\n",
    "    for i in range(epochs): one_epoch_nn(coefs, lr)\n",
    "    return coefs"
   ]
  },
  {
   "cell_type": "code",
   "execution_count": 48,
   "id": "e0aa3292",
   "metadata": {},
   "outputs": [
    {
     "name": "stdout",
     "output_type": "stream",
     "text": [
      "0.349; 0.104; 0.104; 0.103; 0.103; 0.102; 0.102; 0.102; 0.101; 0.101; 0.101; 0.100; 0.100; 0.100; 0.100; 0.099; 0.099; 0.099; 0.099; 0.098; "
     ]
    }
   ],
   "source": [
    "nn_coefs = train_model_nn(trn_indep, trn_dep, lr=5)"
   ]
  },
  {
   "cell_type": "code",
   "execution_count": 49,
   "id": "2ce355fd",
   "metadata": {},
   "outputs": [
    {
     "data": {
      "text/plain": [
       "tensor(0.8673)"
      ]
     },
     "execution_count": 49,
     "metadata": {},
     "output_type": "execute_result"
    }
   ],
   "source": [
    "calc_accuracy(calc_preds_nn(nn_coefs, val_indep), val_dep)"
   ]
  },
  {
   "cell_type": "markdown",
   "id": "8d4283af",
   "metadata": {},
   "source": [
    "We still end up with the same loss and accuracy using a neural network. This shows that neural networks aren't needed for everything and the power of a simple linear regression!"
   ]
  },
  {
   "cell_type": "markdown",
   "id": "3b806ea9",
   "metadata": {},
   "source": [
    "## Using fastai"
   ]
  },
  {
   "cell_type": "markdown",
   "id": "f8b90824",
   "metadata": {},
   "source": [
    "To wrap this notebook up, let's use the fastai library to do all of this work instead of us doing it by hand. To do this, we will bring back our pandas df from above (before introducing dummies etc)."
   ]
  },
  {
   "cell_type": "code",
   "execution_count": 51,
   "id": "f163b20a",
   "metadata": {},
   "outputs": [
    {
     "data": {
      "text/html": [
       "<div>\n",
       "<style scoped>\n",
       "    .dataframe tbody tr th:only-of-type {\n",
       "        vertical-align: middle;\n",
       "    }\n",
       "\n",
       "    .dataframe tbody tr th {\n",
       "        vertical-align: top;\n",
       "    }\n",
       "\n",
       "    .dataframe thead th {\n",
       "        text-align: right;\n",
       "    }\n",
       "</style>\n",
       "<table border=\"1\" class=\"dataframe\">\n",
       "  <thead>\n",
       "    <tr style=\"text-align: right;\">\n",
       "      <th></th>\n",
       "      <th>Gender</th>\n",
       "      <th>Car_Owner</th>\n",
       "      <th>Property_owner</th>\n",
       "      <th>Children</th>\n",
       "      <th>Higher_education</th>\n",
       "      <th>Married</th>\n",
       "      <th>Age_days</th>\n",
       "      <th>Family_Members</th>\n",
       "      <th>label</th>\n",
       "      <th>Employed</th>\n",
       "      <th>log_income</th>\n",
       "    </tr>\n",
       "  </thead>\n",
       "  <tbody>\n",
       "    <tr>\n",
       "      <th>0</th>\n",
       "      <td>M</td>\n",
       "      <td>Y</td>\n",
       "      <td>Y</td>\n",
       "      <td>0</td>\n",
       "      <td>Y</td>\n",
       "      <td>Y</td>\n",
       "      <td>18772.000000</td>\n",
       "      <td>2</td>\n",
       "      <td>1</td>\n",
       "      <td>N</td>\n",
       "      <td>12.100718</td>\n",
       "    </tr>\n",
       "    <tr>\n",
       "      <th>1</th>\n",
       "      <td>F</td>\n",
       "      <td>Y</td>\n",
       "      <td>N</td>\n",
       "      <td>0</td>\n",
       "      <td>Y</td>\n",
       "      <td>Y</td>\n",
       "      <td>13557.000000</td>\n",
       "      <td>2</td>\n",
       "      <td>1</td>\n",
       "      <td>Y</td>\n",
       "      <td>12.660331</td>\n",
       "    </tr>\n",
       "    <tr>\n",
       "      <th>2</th>\n",
       "      <td>F</td>\n",
       "      <td>Y</td>\n",
       "      <td>N</td>\n",
       "      <td>0</td>\n",
       "      <td>Y</td>\n",
       "      <td>Y</td>\n",
       "      <td>16040.342071</td>\n",
       "      <td>2</td>\n",
       "      <td>1</td>\n",
       "      <td>Y</td>\n",
       "      <td>12.660331</td>\n",
       "    </tr>\n",
       "    <tr>\n",
       "      <th>3</th>\n",
       "      <td>F</td>\n",
       "      <td>Y</td>\n",
       "      <td>N</td>\n",
       "      <td>0</td>\n",
       "      <td>Y</td>\n",
       "      <td>Y</td>\n",
       "      <td>13557.000000</td>\n",
       "      <td>2</td>\n",
       "      <td>1</td>\n",
       "      <td>Y</td>\n",
       "      <td>12.162122</td>\n",
       "    </tr>\n",
       "    <tr>\n",
       "      <th>4</th>\n",
       "      <td>F</td>\n",
       "      <td>Y</td>\n",
       "      <td>N</td>\n",
       "      <td>0</td>\n",
       "      <td>Y</td>\n",
       "      <td>Y</td>\n",
       "      <td>13557.000000</td>\n",
       "      <td>2</td>\n",
       "      <td>1</td>\n",
       "      <td>Y</td>\n",
       "      <td>12.660331</td>\n",
       "    </tr>\n",
       "    <tr>\n",
       "      <th>...</th>\n",
       "      <td>...</td>\n",
       "      <td>...</td>\n",
       "      <td>...</td>\n",
       "      <td>...</td>\n",
       "      <td>...</td>\n",
       "      <td>...</td>\n",
       "      <td>...</td>\n",
       "      <td>...</td>\n",
       "      <td>...</td>\n",
       "      <td>...</td>\n",
       "      <td>...</td>\n",
       "    </tr>\n",
       "    <tr>\n",
       "      <th>1543</th>\n",
       "      <td>F</td>\n",
       "      <td>N</td>\n",
       "      <td>Y</td>\n",
       "      <td>0</td>\n",
       "      <td>Y</td>\n",
       "      <td>Y</td>\n",
       "      <td>11957.000000</td>\n",
       "      <td>2</td>\n",
       "      <td>0</td>\n",
       "      <td>Y</td>\n",
       "      <td>12.162122</td>\n",
       "    </tr>\n",
       "    <tr>\n",
       "      <th>1544</th>\n",
       "      <td>F</td>\n",
       "      <td>N</td>\n",
       "      <td>N</td>\n",
       "      <td>0</td>\n",
       "      <td>N</td>\n",
       "      <td>N</td>\n",
       "      <td>10229.000000</td>\n",
       "      <td>1</td>\n",
       "      <td>0</td>\n",
       "      <td>Y</td>\n",
       "      <td>12.323860</td>\n",
       "    </tr>\n",
       "    <tr>\n",
       "      <th>1545</th>\n",
       "      <td>M</td>\n",
       "      <td>Y</td>\n",
       "      <td>Y</td>\n",
       "      <td>2</td>\n",
       "      <td>Y</td>\n",
       "      <td>Y</td>\n",
       "      <td>13174.000000</td>\n",
       "      <td>4</td>\n",
       "      <td>0</td>\n",
       "      <td>Y</td>\n",
       "      <td>12.100718</td>\n",
       "    </tr>\n",
       "    <tr>\n",
       "      <th>1546</th>\n",
       "      <td>M</td>\n",
       "      <td>Y</td>\n",
       "      <td>N</td>\n",
       "      <td>0</td>\n",
       "      <td>N</td>\n",
       "      <td>N</td>\n",
       "      <td>15292.000000</td>\n",
       "      <td>2</td>\n",
       "      <td>0</td>\n",
       "      <td>Y</td>\n",
       "      <td>12.506181</td>\n",
       "    </tr>\n",
       "    <tr>\n",
       "      <th>1547</th>\n",
       "      <td>F</td>\n",
       "      <td>Y</td>\n",
       "      <td>Y</td>\n",
       "      <td>0</td>\n",
       "      <td>Y</td>\n",
       "      <td>Y</td>\n",
       "      <td>16601.000000</td>\n",
       "      <td>2</td>\n",
       "      <td>0</td>\n",
       "      <td>Y</td>\n",
       "      <td>12.323860</td>\n",
       "    </tr>\n",
       "  </tbody>\n",
       "</table>\n",
       "<p>1548 rows × 11 columns</p>\n",
       "</div>"
      ],
      "text/plain": [
       "     Gender Car_Owner Property_owner  Children Higher_education Married  \\\n",
       "0         M         Y              Y         0                Y       Y   \n",
       "1         F         Y              N         0                Y       Y   \n",
       "2         F         Y              N         0                Y       Y   \n",
       "3         F         Y              N         0                Y       Y   \n",
       "4         F         Y              N         0                Y       Y   \n",
       "...     ...       ...            ...       ...              ...     ...   \n",
       "1543      F         N              Y         0                Y       Y   \n",
       "1544      F         N              N         0                N       N   \n",
       "1545      M         Y              Y         2                Y       Y   \n",
       "1546      M         Y              N         0                N       N   \n",
       "1547      F         Y              Y         0                Y       Y   \n",
       "\n",
       "          Age_days  Family_Members  label Employed  log_income  \n",
       "0     18772.000000               2      1        N   12.100718  \n",
       "1     13557.000000               2      1        Y   12.660331  \n",
       "2     16040.342071               2      1        Y   12.660331  \n",
       "3     13557.000000               2      1        Y   12.162122  \n",
       "4     13557.000000               2      1        Y   12.660331  \n",
       "...            ...             ...    ...      ...         ...  \n",
       "1543  11957.000000               2      0        Y   12.162122  \n",
       "1544  10229.000000               1      0        Y   12.323860  \n",
       "1545  13174.000000               4      0        Y   12.100718  \n",
       "1546  15292.000000               2      0        Y   12.506181  \n",
       "1547  16601.000000               2      0        Y   12.323860  \n",
       "\n",
       "[1548 rows x 11 columns]"
      ]
     },
     "execution_count": 51,
     "metadata": {},
     "output_type": "execute_result"
    }
   ],
   "source": [
    "df"
   ]
  },
  {
   "cell_type": "code",
   "execution_count": 52,
   "id": "0bb43f12",
   "metadata": {},
   "outputs": [],
   "source": [
    "from fastai.tabular.all import *"
   ]
  },
  {
   "cell_type": "code",
   "execution_count": 56,
   "id": "ee2afa24",
   "metadata": {},
   "outputs": [],
   "source": [
    "dls = TabularPandas(\n",
    "    df,\n",
    "    splits=RandomSplitter(seed=42)(df),\n",
    "    procs=[Categorify, FillMissing, Normalize],\n",
    "    cat_names=[\"Gender\", \"Car_Owner\", \"Property_owner\", \"Higher_education\", \"Married\", \"Employed\"],\n",
    "    cont_names=[\"Children\", \"Age_days\", \"Family_Members\", \"log_income\"],\n",
    "    y_names=\"label\",\n",
    "    y_block=CategoryBlock()\n",
    ").dataloaders(path=\".\")"
   ]
  },
  {
   "cell_type": "code",
   "execution_count": 58,
   "id": "806d7a6b",
   "metadata": {},
   "outputs": [],
   "source": [
    "# Train the model\n",
    "learn = tabular_learner(dls, metrics=accuracy, layers=[10,10])"
   ]
  },
  {
   "cell_type": "code",
   "execution_count": 59,
   "id": "694ee8de",
   "metadata": {},
   "outputs": [
    {
     "data": {
      "text/html": [
       "\n",
       "<style>\n",
       "    /* Turns off some styling */\n",
       "    progress {\n",
       "        /* gets rid of default border in Firefox and Opera. */\n",
       "        border: none;\n",
       "        /* Needs to be in here for Safari polyfill so background images work as expected. */\n",
       "        background-size: auto;\n",
       "    }\n",
       "    progress:not([value]), progress:not([value])::-webkit-progress-bar {\n",
       "        background: repeating-linear-gradient(45deg, #7e7e7e, #7e7e7e 10px, #5c5c5c 10px, #5c5c5c 20px);\n",
       "    }\n",
       "    .progress-bar-interrupted, .progress-bar-interrupted::-webkit-progress-bar {\n",
       "        background: #F44336;\n",
       "    }\n",
       "</style>\n"
      ],
      "text/plain": [
       "<IPython.core.display.HTML object>"
      ]
     },
     "metadata": {},
     "output_type": "display_data"
    },
    {
     "data": {
      "text/html": [],
      "text/plain": [
       "<IPython.core.display.HTML object>"
      ]
     },
     "metadata": {},
     "output_type": "display_data"
    },
    {
     "data": {
      "text/plain": [
       "SuggestedLRs(slide=0.0831763744354248, valley=0.010964781977236271)"
      ]
     },
     "execution_count": 59,
     "metadata": {},
     "output_type": "execute_result"
    },
    {
     "data": {
      "image/png": "[encoded data removed]",
      "text/plain": [
       "<Figure size 432x288 with 1 Axes>"
      ]
     },
     "metadata": {
      "needs_background": "light"
     },
     "output_type": "display_data"
    }
   ],
   "source": [
    "learn.lr_find(suggest_funcs=(slide, valley))"
   ]
  },
  {
   "cell_type": "code",
   "execution_count": 62,
   "id": "c4e4bda5",
   "metadata": {},
   "outputs": [
    {
     "data": {
      "text/plain": [
       "0.4213"
      ]
     },
     "execution_count": 62,
     "metadata": {},
     "output_type": "execute_result"
    }
   ],
   "source": [
    "# We will take the average of these two values\n",
    "lr = (0.8317 + 0.0109) / 2\n",
    "lr"
   ]
  },
  {
   "cell_type": "code",
   "execution_count": 64,
   "id": "1d6c84df",
   "metadata": {},
   "outputs": [
    {
     "data": {
      "text/html": [
       "\n",
       "<style>\n",
       "    /* Turns off some styling */\n",
       "    progress {\n",
       "        /* gets rid of default border in Firefox and Opera. */\n",
       "        border: none;\n",
       "        /* Needs to be in here for Safari polyfill so background images work as expected. */\n",
       "        background-size: auto;\n",
       "    }\n",
       "    progress:not([value]), progress:not([value])::-webkit-progress-bar {\n",
       "        background: repeating-linear-gradient(45deg, #7e7e7e, #7e7e7e 10px, #5c5c5c 10px, #5c5c5c 20px);\n",
       "    }\n",
       "    .progress-bar-interrupted, .progress-bar-interrupted::-webkit-progress-bar {\n",
       "        background: #F44336;\n",
       "    }\n",
       "</style>\n"
      ],
      "text/plain": [
       "<IPython.core.display.HTML object>"
      ]
     },
     "metadata": {},
     "output_type": "display_data"
    },
    {
     "data": {
      "text/html": [
       "<table border=\"1\" class=\"dataframe\">\n",
       "  <thead>\n",
       "    <tr style=\"text-align: left;\">\n",
       "      <th>epoch</th>\n",
       "      <th>train_loss</th>\n",
       "      <th>valid_loss</th>\n",
       "      <th>accuracy</th>\n",
       "      <th>time</th>\n",
       "    </tr>\n",
       "  </thead>\n",
       "  <tbody>\n",
       "    <tr>\n",
       "      <td>0</td>\n",
       "      <td>0.568582</td>\n",
       "      <td>0.928428</td>\n",
       "      <td>0.381877</td>\n",
       "      <td>00:00</td>\n",
       "    </tr>\n",
       "    <tr>\n",
       "      <td>1</td>\n",
       "      <td>0.462322</td>\n",
       "      <td>0.308781</td>\n",
       "      <td>0.909385</td>\n",
       "      <td>00:00</td>\n",
       "    </tr>\n",
       "    <tr>\n",
       "      <td>2</td>\n",
       "      <td>0.434444</td>\n",
       "      <td>0.324669</td>\n",
       "      <td>0.906149</td>\n",
       "      <td>00:00</td>\n",
       "    </tr>\n",
       "    <tr>\n",
       "      <td>3</td>\n",
       "      <td>0.425197</td>\n",
       "      <td>0.315994</td>\n",
       "      <td>0.909385</td>\n",
       "      <td>00:00</td>\n",
       "    </tr>\n",
       "    <tr>\n",
       "      <td>4</td>\n",
       "      <td>0.421724</td>\n",
       "      <td>0.362757</td>\n",
       "      <td>0.909385</td>\n",
       "      <td>00:00</td>\n",
       "    </tr>\n",
       "    <tr>\n",
       "      <td>5</td>\n",
       "      <td>0.405127</td>\n",
       "      <td>0.311448</td>\n",
       "      <td>0.909385</td>\n",
       "      <td>00:00</td>\n",
       "    </tr>\n",
       "    <tr>\n",
       "      <td>6</td>\n",
       "      <td>0.395429</td>\n",
       "      <td>0.308486</td>\n",
       "      <td>0.909385</td>\n",
       "      <td>00:00</td>\n",
       "    </tr>\n",
       "    <tr>\n",
       "      <td>7</td>\n",
       "      <td>0.389034</td>\n",
       "      <td>0.335442</td>\n",
       "      <td>0.909385</td>\n",
       "      <td>00:00</td>\n",
       "    </tr>\n",
       "    <tr>\n",
       "      <td>8</td>\n",
       "      <td>0.382843</td>\n",
       "      <td>0.309330</td>\n",
       "      <td>0.909385</td>\n",
       "      <td>00:00</td>\n",
       "    </tr>\n",
       "    <tr>\n",
       "      <td>9</td>\n",
       "      <td>0.380378</td>\n",
       "      <td>0.452236</td>\n",
       "      <td>0.909385</td>\n",
       "      <td>00:00</td>\n",
       "    </tr>\n",
       "    <tr>\n",
       "      <td>10</td>\n",
       "      <td>0.381906</td>\n",
       "      <td>0.326622</td>\n",
       "      <td>0.909385</td>\n",
       "      <td>00:00</td>\n",
       "    </tr>\n",
       "    <tr>\n",
       "      <td>11</td>\n",
       "      <td>0.383927</td>\n",
       "      <td>0.363560</td>\n",
       "      <td>0.909385</td>\n",
       "      <td>00:00</td>\n",
       "    </tr>\n",
       "    <tr>\n",
       "      <td>12</td>\n",
       "      <td>0.381775</td>\n",
       "      <td>0.321470</td>\n",
       "      <td>0.909385</td>\n",
       "      <td>00:00</td>\n",
       "    </tr>\n",
       "    <tr>\n",
       "      <td>13</td>\n",
       "      <td>0.377692</td>\n",
       "      <td>0.308692</td>\n",
       "      <td>0.909385</td>\n",
       "      <td>00:00</td>\n",
       "    </tr>\n",
       "    <tr>\n",
       "      <td>14</td>\n",
       "      <td>0.375697</td>\n",
       "      <td>0.319945</td>\n",
       "      <td>0.909385</td>\n",
       "      <td>00:00</td>\n",
       "    </tr>\n",
       "    <tr>\n",
       "      <td>15</td>\n",
       "      <td>0.374261</td>\n",
       "      <td>0.383401</td>\n",
       "      <td>0.909385</td>\n",
       "      <td>00:00</td>\n",
       "    </tr>\n",
       "    <tr>\n",
       "      <td>16</td>\n",
       "      <td>0.374303</td>\n",
       "      <td>0.304022</td>\n",
       "      <td>0.909385</td>\n",
       "      <td>00:00</td>\n",
       "    </tr>\n",
       "    <tr>\n",
       "      <td>17</td>\n",
       "      <td>0.374786</td>\n",
       "      <td>0.318856</td>\n",
       "      <td>0.909385</td>\n",
       "      <td>00:00</td>\n",
       "    </tr>\n",
       "    <tr>\n",
       "      <td>18</td>\n",
       "      <td>0.371297</td>\n",
       "      <td>0.331256</td>\n",
       "      <td>0.906149</td>\n",
       "      <td>00:00</td>\n",
       "    </tr>\n",
       "    <tr>\n",
       "      <td>19</td>\n",
       "      <td>0.372659</td>\n",
       "      <td>0.308645</td>\n",
       "      <td>0.909385</td>\n",
       "      <td>00:00</td>\n",
       "    </tr>\n",
       "  </tbody>\n",
       "</table>"
      ],
      "text/plain": [
       "<IPython.core.display.HTML object>"
      ]
     },
     "metadata": {},
     "output_type": "display_data"
    }
   ],
   "source": [
    "learn.fit(20, lr=lr)"
   ]
  },
  {
   "cell_type": "markdown",
   "id": "c8e0678b",
   "metadata": {},
   "source": [
    "That was so much easier! And we got a slightly better accuracy with the fancy fastai trainer, likely as a result of them processing the data slightly better than we did by hand. Note that fastai also has methods for filling NA values but I was too lazy to redo the data cleanup until the filling of NAs so we will not experiment with that today. However, it may have improved our accuracy even further by using a more sophisticated method for filling NA values."
   ]
  },
  {
   "cell_type": "markdown",
   "id": "9a8dfb4a",
   "metadata": {},
   "source": [
    "### Ensembling"
   ]
  },
  {
   "cell_type": "markdown",
   "id": "65c45128",
   "metadata": {},
   "source": [
    "The last thing we will do is try a method called ensembling which is essentially where you take the results of a few different models and take the average to try and get an even more accurate result."
   ]
  },
  {
   "cell_type": "code",
   "execution_count": 69,
   "id": "dbef4f80",
   "metadata": {},
   "outputs": [],
   "source": [
    "def ensemble(epochs, lr):\n",
    "    learn = tabular_learner(dls, metrics=accuracy, layers=[10,10])\n",
    "    with learn.no_bar(),learn.no_logging(): learn.fit(epochs, lr=lr)\n",
    "    return learn.get_preds(dl=learn.dls.test_dl(df))[0]"
   ]
  },
  {
   "cell_type": "code",
   "execution_count": 70,
   "id": "9b2d27ac",
   "metadata": {},
   "outputs": [
    {
     "data": {
      "text/html": [
       "\n",
       "<style>\n",
       "    /* Turns off some styling */\n",
       "    progress {\n",
       "        /* gets rid of default border in Firefox and Opera. */\n",
       "        border: none;\n",
       "        /* Needs to be in here for Safari polyfill so background images work as expected. */\n",
       "        background-size: auto;\n",
       "    }\n",
       "    progress:not([value]), progress:not([value])::-webkit-progress-bar {\n",
       "        background: repeating-linear-gradient(45deg, #7e7e7e, #7e7e7e 10px, #5c5c5c 10px, #5c5c5c 20px);\n",
       "    }\n",
       "    .progress-bar-interrupted, .progress-bar-interrupted::-webkit-progress-bar {\n",
       "        background: #F44336;\n",
       "    }\n",
       "</style>\n"
      ],
      "text/plain": [
       "<IPython.core.display.HTML object>"
      ]
     },
     "metadata": {},
     "output_type": "display_data"
    },
    {
     "data": {
      "text/html": [],
      "text/plain": [
       "<IPython.core.display.HTML object>"
      ]
     },
     "metadata": {},
     "output_type": "display_data"
    },
    {
     "data": {
      "text/html": [
       "\n",
       "<style>\n",
       "    /* Turns off some styling */\n",
       "    progress {\n",
       "        /* gets rid of default border in Firefox and Opera. */\n",
       "        border: none;\n",
       "        /* Needs to be in here for Safari polyfill so background images work as expected. */\n",
       "        background-size: auto;\n",
       "    }\n",
       "    progress:not([value]), progress:not([value])::-webkit-progress-bar {\n",
       "        background: repeating-linear-gradient(45deg, #7e7e7e, #7e7e7e 10px, #5c5c5c 10px, #5c5c5c 20px);\n",
       "    }\n",
       "    .progress-bar-interrupted, .progress-bar-interrupted::-webkit-progress-bar {\n",
       "        background: #F44336;\n",
       "    }\n",
       "</style>\n"
      ],
      "text/plain": [
       "<IPython.core.display.HTML object>"
      ]
     },
     "metadata": {},
     "output_type": "display_data"
    },
    {
     "data": {
      "text/html": [],
      "text/plain": [
       "<IPython.core.display.HTML object>"
      ]
     },
     "metadata": {},
     "output_type": "display_data"
    },
    {
     "data": {
      "text/html": [
       "\n",
       "<style>\n",
       "    /* Turns off some styling */\n",
       "    progress {\n",
       "        /* gets rid of default border in Firefox and Opera. */\n",
       "        border: none;\n",
       "        /* Needs to be in here for Safari polyfill so background images work as expected. */\n",
       "        background-size: auto;\n",
       "    }\n",
       "    progress:not([value]), progress:not([value])::-webkit-progress-bar {\n",
       "        background: repeating-linear-gradient(45deg, #7e7e7e, #7e7e7e 10px, #5c5c5c 10px, #5c5c5c 20px);\n",
       "    }\n",
       "    .progress-bar-interrupted, .progress-bar-interrupted::-webkit-progress-bar {\n",
       "        background: #F44336;\n",
       "    }\n",
       "</style>\n"
      ],
      "text/plain": [
       "<IPython.core.display.HTML object>"
      ]
     },
     "metadata": {},
     "output_type": "display_data"
    },
    {
     "data": {
      "text/html": [],
      "text/plain": [
       "<IPython.core.display.HTML object>"
      ]
     },
     "metadata": {},
     "output_type": "display_data"
    },
    {
     "data": {
      "text/html": [
       "\n",
       "<style>\n",
       "    /* Turns off some styling */\n",
       "    progress {\n",
       "        /* gets rid of default border in Firefox and Opera. */\n",
       "        border: none;\n",
       "        /* Needs to be in here for Safari polyfill so background images work as expected. */\n",
       "        background-size: auto;\n",
       "    }\n",
       "    progress:not([value]), progress:not([value])::-webkit-progress-bar {\n",
       "        background: repeating-linear-gradient(45deg, #7e7e7e, #7e7e7e 10px, #5c5c5c 10px, #5c5c5c 20px);\n",
       "    }\n",
       "    .progress-bar-interrupted, .progress-bar-interrupted::-webkit-progress-bar {\n",
       "        background: #F44336;\n",
       "    }\n",
       "</style>\n"
      ],
      "text/plain": [
       "<IPython.core.display.HTML object>"
      ]
     },
     "metadata": {},
     "output_type": "display_data"
    },
    {
     "data": {
      "text/html": [],
      "text/plain": [
       "<IPython.core.display.HTML object>"
      ]
     },
     "metadata": {},
     "output_type": "display_data"
    },
    {
     "data": {
      "text/html": [
       "\n",
       "<style>\n",
       "    /* Turns off some styling */\n",
       "    progress {\n",
       "        /* gets rid of default border in Firefox and Opera. */\n",
       "        border: none;\n",
       "        /* Needs to be in here for Safari polyfill so background images work as expected. */\n",
       "        background-size: auto;\n",
       "    }\n",
       "    progress:not([value]), progress:not([value])::-webkit-progress-bar {\n",
       "        background: repeating-linear-gradient(45deg, #7e7e7e, #7e7e7e 10px, #5c5c5c 10px, #5c5c5c 20px);\n",
       "    }\n",
       "    .progress-bar-interrupted, .progress-bar-interrupted::-webkit-progress-bar {\n",
       "        background: #F44336;\n",
       "    }\n",
       "</style>\n"
      ],
      "text/plain": [
       "<IPython.core.display.HTML object>"
      ]
     },
     "metadata": {},
     "output_type": "display_data"
    },
    {
     "data": {
      "text/html": [],
      "text/plain": [
       "<IPython.core.display.HTML object>"
      ]
     },
     "metadata": {},
     "output_type": "display_data"
    },
    {
     "data": {
      "text/plain": [
       "tensor([[0.7010, 0.2990],\n",
       "        [0.9206, 0.0794],\n",
       "        [0.9177, 0.0823],\n",
       "        ...,\n",
       "        [0.9103, 0.0897],\n",
       "        [0.9123, 0.0877],\n",
       "        [0.9151, 0.0849]])"
      ]
     },
     "execution_count": 70,
     "metadata": {},
     "output_type": "execute_result"
    }
   ],
   "source": [
    "learns = [ensemble(20,lr) for _ in range(5)]\n",
    "ens_preds = torch.stack(learns).mean(0)\n",
    "ens_preds"
   ]
  },
  {
   "cell_type": "code",
   "execution_count": 71,
   "id": "b981c6e8",
   "metadata": {},
   "outputs": [
    {
     "data": {
      "text/plain": [
       "torch.Size([1548, 2])"
      ]
     },
     "execution_count": 71,
     "metadata": {},
     "output_type": "execute_result"
    }
   ],
   "source": [
    "ens_preds.shape"
   ]
  },
  {
   "cell_type": "code",
   "execution_count": 74,
   "id": "fa3a7699",
   "metadata": {},
   "outputs": [
    {
     "data": {
      "text/plain": [
       "[tensor([[0.9304, 0.0696],\n",
       "         [0.9286, 0.0714],\n",
       "         [0.9283, 0.0717],\n",
       "         ...,\n",
       "         [0.9334, 0.0666],\n",
       "         [0.9368, 0.0632],\n",
       "         [0.9318, 0.0682]]),\n",
       " tensor([[0.0000, 1.0000],\n",
       "         [0.9868, 0.0132],\n",
       "         [0.9867, 0.0133],\n",
       "         ...,\n",
       "         [0.9861, 0.0139],\n",
       "         [0.9467, 0.0533],\n",
       "         [0.9866, 0.0134]]),\n",
       " tensor([[0.9000, 0.1000],\n",
       "         [0.9000, 0.1000],\n",
       "         [0.9000, 0.1000],\n",
       "         ...,\n",
       "         [0.9000, 0.1000],\n",
       "         [0.9016, 0.0984],\n",
       "         [0.9000, 0.1000]]),\n",
       " tensor([[0.8928, 0.1072],\n",
       "         [0.9383, 0.0617],\n",
       "         [0.9291, 0.0709],\n",
       "         ...,\n",
       "         [0.8735, 0.1265],\n",
       "         [0.9229, 0.0771],\n",
       "         [0.9002, 0.0998]]),\n",
       " tensor([[0.7816, 0.2184],\n",
       "         [0.8495, 0.1505],\n",
       "         [0.8445, 0.1555],\n",
       "         ...,\n",
       "         [0.8585, 0.1415],\n",
       "         [0.8538, 0.1462],\n",
       "         [0.8568, 0.1432]])]"
      ]
     },
     "execution_count": 74,
     "metadata": {},
     "output_type": "execute_result"
    }
   ],
   "source": [
    "learns"
   ]
  },
  {
   "cell_type": "markdown",
   "id": "5480304d",
   "metadata": {},
   "source": [
    "Not exactly sure what is going on here. Will explore at a future date."
   ]
  }
 ],
 "metadata": {
  "kernelspec": {
   "display_name": "Python 3 (ipykernel)",
   "language": "python",
   "name": "python3"
  },
  "language_info": {
   "codemirror_mode": {
    "name": "ipython",
    "version": 3
   },
   "file_extension": ".py",
   "mimetype": "text/x-python",
   "name": "python",
   "nbconvert_exporter": "python",
   "pygments_lexer": "ipython3",
   "version": "3.9.5"
  }
 },
 "nbformat": 4,
 "nbformat_minor": 5
}
