{
 "cells": [
  {
   "cell_type": "markdown",
   "id": "c955e0b4",
   "metadata": {},
   "source": [
    "# Homework 3: Recreating Titanic Survival Model in Python"
   ]
  },
  {
   "cell_type": "code",
   "execution_count": 1,
   "id": "daf532f3",
   "metadata": {},
   "outputs": [],
   "source": [
    "import fastai\n",
    "from fastai.vision.all import *\n",
    "import pandas as pd\n",
    "import numpy as np"
   ]
  },
  {
   "cell_type": "markdown",
   "id": "40ecca8e",
   "metadata": {},
   "source": [
    "## Loading in the data"
   ]
  },
  {
   "cell_type": "code",
   "execution_count": 2,
   "id": "5d332460",
   "metadata": {},
   "outputs": [],
   "source": [
    "df_train = pd.read_csv(\"./titanic/train.csv\")\n",
    "df_test = pd.read_csv(\"./titanic/test.csv\")"
   ]
  },
  {
   "cell_type": "markdown",
   "id": "7e7170bf",
   "metadata": {},
   "source": [
    "Let's get a picture of what the data looks like"
   ]
  },
  {
   "cell_type": "code",
   "execution_count": 3,
   "id": "c33565ae",
   "metadata": {},
   "outputs": [
    {
     "data": {
      "text/html": [
       "<div>\n",
       "<style scoped>\n",
       "    .dataframe tbody tr th:only-of-type {\n",
       "        vertical-align: middle;\n",
       "    }\n",
       "\n",
       "    .dataframe tbody tr th {\n",
       "        vertical-align: top;\n",
       "    }\n",
       "\n",
       "    .dataframe thead th {\n",
       "        text-align: right;\n",
       "    }\n",
       "</style>\n",
       "<table border=\"1\" class=\"dataframe\">\n",
       "  <thead>\n",
       "    <tr style=\"text-align: right;\">\n",
       "      <th></th>\n",
       "      <th>PassengerId</th>\n",
       "      <th>Survived</th>\n",
       "      <th>Pclass</th>\n",
       "      <th>Name</th>\n",
       "      <th>Sex</th>\n",
       "      <th>Age</th>\n",
       "      <th>SibSp</th>\n",
       "      <th>Parch</th>\n",
       "      <th>Ticket</th>\n",
       "      <th>Fare</th>\n",
       "      <th>Cabin</th>\n",
       "      <th>Embarked</th>\n",
       "    </tr>\n",
       "  </thead>\n",
       "  <tbody>\n",
       "    <tr>\n",
       "      <th>0</th>\n",
       "      <td>1</td>\n",
       "      <td>0</td>\n",
       "      <td>3</td>\n",
       "      <td>Braund, Mr. Owen Harris</td>\n",
       "      <td>male</td>\n",
       "      <td>22.0</td>\n",
       "      <td>1</td>\n",
       "      <td>0</td>\n",
       "      <td>A/5 21171</td>\n",
       "      <td>7.2500</td>\n",
       "      <td>NaN</td>\n",
       "      <td>S</td>\n",
       "    </tr>\n",
       "    <tr>\n",
       "      <th>1</th>\n",
       "      <td>2</td>\n",
       "      <td>1</td>\n",
       "      <td>1</td>\n",
       "      <td>Cumings, Mrs. John Bradley (Florence Briggs Thayer)</td>\n",
       "      <td>female</td>\n",
       "      <td>38.0</td>\n",
       "      <td>1</td>\n",
       "      <td>0</td>\n",
       "      <td>PC 17599</td>\n",
       "      <td>71.2833</td>\n",
       "      <td>C85</td>\n",
       "      <td>C</td>\n",
       "    </tr>\n",
       "    <tr>\n",
       "      <th>2</th>\n",
       "      <td>3</td>\n",
       "      <td>1</td>\n",
       "      <td>3</td>\n",
       "      <td>Heikkinen, Miss. Laina</td>\n",
       "      <td>female</td>\n",
       "      <td>26.0</td>\n",
       "      <td>0</td>\n",
       "      <td>0</td>\n",
       "      <td>STON/O2. 3101282</td>\n",
       "      <td>7.9250</td>\n",
       "      <td>NaN</td>\n",
       "      <td>S</td>\n",
       "    </tr>\n",
       "    <tr>\n",
       "      <th>3</th>\n",
       "      <td>4</td>\n",
       "      <td>1</td>\n",
       "      <td>1</td>\n",
       "      <td>Futrelle, Mrs. Jacques Heath (Lily May Peel)</td>\n",
       "      <td>female</td>\n",
       "      <td>35.0</td>\n",
       "      <td>1</td>\n",
       "      <td>0</td>\n",
       "      <td>113803</td>\n",
       "      <td>53.1000</td>\n",
       "      <td>C123</td>\n",
       "      <td>S</td>\n",
       "    </tr>\n",
       "    <tr>\n",
       "      <th>4</th>\n",
       "      <td>5</td>\n",
       "      <td>0</td>\n",
       "      <td>3</td>\n",
       "      <td>Allen, Mr. William Henry</td>\n",
       "      <td>male</td>\n",
       "      <td>35.0</td>\n",
       "      <td>0</td>\n",
       "      <td>0</td>\n",
       "      <td>373450</td>\n",
       "      <td>8.0500</td>\n",
       "      <td>NaN</td>\n",
       "      <td>S</td>\n",
       "    </tr>\n",
       "  </tbody>\n",
       "</table>\n",
       "</div>"
      ],
      "text/plain": [
       "   PassengerId  Survived  Pclass  \\\n",
       "0            1         0       3   \n",
       "1            2         1       1   \n",
       "2            3         1       3   \n",
       "3            4         1       1   \n",
       "4            5         0       3   \n",
       "\n",
       "                                                  Name     Sex   Age  SibSp  \\\n",
       "0                              Braund, Mr. Owen Harris    male  22.0      1   \n",
       "1  Cumings, Mrs. John Bradley (Florence Briggs Thayer)  female  38.0      1   \n",
       "2                               Heikkinen, Miss. Laina  female  26.0      0   \n",
       "3         Futrelle, Mrs. Jacques Heath (Lily May Peel)  female  35.0      1   \n",
       "4                             Allen, Mr. William Henry    male  35.0      0   \n",
       "\n",
       "   Parch            Ticket     Fare Cabin Embarked  \n",
       "0      0         A/5 21171   7.2500   NaN        S  \n",
       "1      0          PC 17599  71.2833   C85        C  \n",
       "2      0  STON/O2. 3101282   7.9250   NaN        S  \n",
       "3      0            113803  53.1000  C123        S  \n",
       "4      0            373450   8.0500   NaN        S  "
      ]
     },
     "execution_count": 3,
     "metadata": {},
     "output_type": "execute_result"
    }
   ],
   "source": [
    "df_train.head()"
   ]
  },
  {
   "cell_type": "markdown",
   "id": "9aac7fad",
   "metadata": {},
   "source": [
    "Get descriptive statistics of the numeric fields"
   ]
  },
  {
   "cell_type": "code",
   "execution_count": 4,
   "id": "98a8407e",
   "metadata": {},
   "outputs": [
    {
     "data": {
      "text/html": [
       "<div>\n",
       "<style scoped>\n",
       "    .dataframe tbody tr th:only-of-type {\n",
       "        vertical-align: middle;\n",
       "    }\n",
       "\n",
       "    .dataframe tbody tr th {\n",
       "        vertical-align: top;\n",
       "    }\n",
       "\n",
       "    .dataframe thead th {\n",
       "        text-align: right;\n",
       "    }\n",
       "</style>\n",
       "<table border=\"1\" class=\"dataframe\">\n",
       "  <thead>\n",
       "    <tr style=\"text-align: right;\">\n",
       "      <th></th>\n",
       "      <th>PassengerId</th>\n",
       "      <th>Survived</th>\n",
       "      <th>Pclass</th>\n",
       "      <th>Age</th>\n",
       "      <th>SibSp</th>\n",
       "      <th>Parch</th>\n",
       "      <th>Fare</th>\n",
       "    </tr>\n",
       "  </thead>\n",
       "  <tbody>\n",
       "    <tr>\n",
       "      <th>count</th>\n",
       "      <td>891.000000</td>\n",
       "      <td>891.000000</td>\n",
       "      <td>891.000000</td>\n",
       "      <td>714.000000</td>\n",
       "      <td>891.000000</td>\n",
       "      <td>891.000000</td>\n",
       "      <td>891.000000</td>\n",
       "    </tr>\n",
       "    <tr>\n",
       "      <th>mean</th>\n",
       "      <td>446.000000</td>\n",
       "      <td>0.383838</td>\n",
       "      <td>2.308642</td>\n",
       "      <td>29.699118</td>\n",
       "      <td>0.523008</td>\n",
       "      <td>0.381594</td>\n",
       "      <td>32.204208</td>\n",
       "    </tr>\n",
       "    <tr>\n",
       "      <th>std</th>\n",
       "      <td>257.353842</td>\n",
       "      <td>0.486592</td>\n",
       "      <td>0.836071</td>\n",
       "      <td>14.526497</td>\n",
       "      <td>1.102743</td>\n",
       "      <td>0.806057</td>\n",
       "      <td>49.693429</td>\n",
       "    </tr>\n",
       "    <tr>\n",
       "      <th>min</th>\n",
       "      <td>1.000000</td>\n",
       "      <td>0.000000</td>\n",
       "      <td>1.000000</td>\n",
       "      <td>0.420000</td>\n",
       "      <td>0.000000</td>\n",
       "      <td>0.000000</td>\n",
       "      <td>0.000000</td>\n",
       "    </tr>\n",
       "    <tr>\n",
       "      <th>25%</th>\n",
       "      <td>223.500000</td>\n",
       "      <td>0.000000</td>\n",
       "      <td>2.000000</td>\n",
       "      <td>20.125000</td>\n",
       "      <td>0.000000</td>\n",
       "      <td>0.000000</td>\n",
       "      <td>7.910400</td>\n",
       "    </tr>\n",
       "    <tr>\n",
       "      <th>50%</th>\n",
       "      <td>446.000000</td>\n",
       "      <td>0.000000</td>\n",
       "      <td>3.000000</td>\n",
       "      <td>28.000000</td>\n",
       "      <td>0.000000</td>\n",
       "      <td>0.000000</td>\n",
       "      <td>14.454200</td>\n",
       "    </tr>\n",
       "    <tr>\n",
       "      <th>75%</th>\n",
       "      <td>668.500000</td>\n",
       "      <td>1.000000</td>\n",
       "      <td>3.000000</td>\n",
       "      <td>38.000000</td>\n",
       "      <td>1.000000</td>\n",
       "      <td>0.000000</td>\n",
       "      <td>31.000000</td>\n",
       "    </tr>\n",
       "    <tr>\n",
       "      <th>max</th>\n",
       "      <td>891.000000</td>\n",
       "      <td>1.000000</td>\n",
       "      <td>3.000000</td>\n",
       "      <td>80.000000</td>\n",
       "      <td>8.000000</td>\n",
       "      <td>6.000000</td>\n",
       "      <td>512.329200</td>\n",
       "    </tr>\n",
       "  </tbody>\n",
       "</table>\n",
       "</div>"
      ],
      "text/plain": [
       "       PassengerId    Survived      Pclass         Age       SibSp  \\\n",
       "count   891.000000  891.000000  891.000000  714.000000  891.000000   \n",
       "mean    446.000000    0.383838    2.308642   29.699118    0.523008   \n",
       "std     257.353842    0.486592    0.836071   14.526497    1.102743   \n",
       "min       1.000000    0.000000    1.000000    0.420000    0.000000   \n",
       "25%     223.500000    0.000000    2.000000   20.125000    0.000000   \n",
       "50%     446.000000    0.000000    3.000000   28.000000    0.000000   \n",
       "75%     668.500000    1.000000    3.000000   38.000000    1.000000   \n",
       "max     891.000000    1.000000    3.000000   80.000000    8.000000   \n",
       "\n",
       "            Parch        Fare  \n",
       "count  891.000000  891.000000  \n",
       "mean     0.381594   32.204208  \n",
       "std      0.806057   49.693429  \n",
       "min      0.000000    0.000000  \n",
       "25%      0.000000    7.910400  \n",
       "50%      0.000000   14.454200  \n",
       "75%      0.000000   31.000000  \n",
       "max      6.000000  512.329200  "
      ]
     },
     "execution_count": 4,
     "metadata": {},
     "output_type": "execute_result"
    }
   ],
   "source": [
    "df_train.describe()"
   ]
  },
  {
   "cell_type": "markdown",
   "id": "09bcd01c",
   "metadata": {},
   "source": [
    "## Clean the data"
   ]
  },
  {
   "cell_type": "code",
   "execution_count": 5,
   "id": "02c7814a",
   "metadata": {},
   "outputs": [
    {
     "data": {
      "text/plain": [
       "PassengerId      0\n",
       "Survived         0\n",
       "Pclass           0\n",
       "Name             0\n",
       "Sex              0\n",
       "Age            177\n",
       "SibSp            0\n",
       "Parch            0\n",
       "Ticket           0\n",
       "Fare             0\n",
       "Cabin          687\n",
       "Embarked         2\n",
       "dtype: int64"
      ]
     },
     "execution_count": 5,
     "metadata": {},
     "output_type": "execute_result"
    }
   ],
   "source": [
    "df_train.isna().sum()"
   ]
  },
  {
   "cell_type": "markdown",
   "id": "0a27e28c",
   "metadata": {},
   "source": [
    "For the purposes of this exercise, we don't care about the cabin, name, ticket number, or id of the passenger so we will drop those columns"
   ]
  },
  {
   "cell_type": "code",
   "execution_count": 6,
   "id": "e3bd639d",
   "metadata": {},
   "outputs": [
    {
     "data": {
      "text/html": [
       "<div>\n",
       "<style scoped>\n",
       "    .dataframe tbody tr th:only-of-type {\n",
       "        vertical-align: middle;\n",
       "    }\n",
       "\n",
       "    .dataframe tbody tr th {\n",
       "        vertical-align: top;\n",
       "    }\n",
       "\n",
       "    .dataframe thead th {\n",
       "        text-align: right;\n",
       "    }\n",
       "</style>\n",
       "<table border=\"1\" class=\"dataframe\">\n",
       "  <thead>\n",
       "    <tr style=\"text-align: right;\">\n",
       "      <th></th>\n",
       "      <th>Survived</th>\n",
       "      <th>Pclass</th>\n",
       "      <th>Sex</th>\n",
       "      <th>Age</th>\n",
       "      <th>SibSp</th>\n",
       "      <th>Parch</th>\n",
       "      <th>Fare</th>\n",
       "      <th>Embarked</th>\n",
       "    </tr>\n",
       "  </thead>\n",
       "  <tbody>\n",
       "    <tr>\n",
       "      <th>0</th>\n",
       "      <td>0</td>\n",
       "      <td>3</td>\n",
       "      <td>male</td>\n",
       "      <td>22.0</td>\n",
       "      <td>1</td>\n",
       "      <td>0</td>\n",
       "      <td>7.2500</td>\n",
       "      <td>S</td>\n",
       "    </tr>\n",
       "    <tr>\n",
       "      <th>1</th>\n",
       "      <td>1</td>\n",
       "      <td>1</td>\n",
       "      <td>female</td>\n",
       "      <td>38.0</td>\n",
       "      <td>1</td>\n",
       "      <td>0</td>\n",
       "      <td>71.2833</td>\n",
       "      <td>C</td>\n",
       "    </tr>\n",
       "    <tr>\n",
       "      <th>2</th>\n",
       "      <td>1</td>\n",
       "      <td>3</td>\n",
       "      <td>female</td>\n",
       "      <td>26.0</td>\n",
       "      <td>0</td>\n",
       "      <td>0</td>\n",
       "      <td>7.9250</td>\n",
       "      <td>S</td>\n",
       "    </tr>\n",
       "    <tr>\n",
       "      <th>3</th>\n",
       "      <td>1</td>\n",
       "      <td>1</td>\n",
       "      <td>female</td>\n",
       "      <td>35.0</td>\n",
       "      <td>1</td>\n",
       "      <td>0</td>\n",
       "      <td>53.1000</td>\n",
       "      <td>S</td>\n",
       "    </tr>\n",
       "    <tr>\n",
       "      <th>4</th>\n",
       "      <td>0</td>\n",
       "      <td>3</td>\n",
       "      <td>male</td>\n",
       "      <td>35.0</td>\n",
       "      <td>0</td>\n",
       "      <td>0</td>\n",
       "      <td>8.0500</td>\n",
       "      <td>S</td>\n",
       "    </tr>\n",
       "    <tr>\n",
       "      <th>...</th>\n",
       "      <td>...</td>\n",
       "      <td>...</td>\n",
       "      <td>...</td>\n",
       "      <td>...</td>\n",
       "      <td>...</td>\n",
       "      <td>...</td>\n",
       "      <td>...</td>\n",
       "      <td>...</td>\n",
       "    </tr>\n",
       "    <tr>\n",
       "      <th>886</th>\n",
       "      <td>0</td>\n",
       "      <td>2</td>\n",
       "      <td>male</td>\n",
       "      <td>27.0</td>\n",
       "      <td>0</td>\n",
       "      <td>0</td>\n",
       "      <td>13.0000</td>\n",
       "      <td>S</td>\n",
       "    </tr>\n",
       "    <tr>\n",
       "      <th>887</th>\n",
       "      <td>1</td>\n",
       "      <td>1</td>\n",
       "      <td>female</td>\n",
       "      <td>19.0</td>\n",
       "      <td>0</td>\n",
       "      <td>0</td>\n",
       "      <td>30.0000</td>\n",
       "      <td>S</td>\n",
       "    </tr>\n",
       "    <tr>\n",
       "      <th>888</th>\n",
       "      <td>0</td>\n",
       "      <td>3</td>\n",
       "      <td>female</td>\n",
       "      <td>NaN</td>\n",
       "      <td>1</td>\n",
       "      <td>2</td>\n",
       "      <td>23.4500</td>\n",
       "      <td>S</td>\n",
       "    </tr>\n",
       "    <tr>\n",
       "      <th>889</th>\n",
       "      <td>1</td>\n",
       "      <td>1</td>\n",
       "      <td>male</td>\n",
       "      <td>26.0</td>\n",
       "      <td>0</td>\n",
       "      <td>0</td>\n",
       "      <td>30.0000</td>\n",
       "      <td>C</td>\n",
       "    </tr>\n",
       "    <tr>\n",
       "      <th>890</th>\n",
       "      <td>0</td>\n",
       "      <td>3</td>\n",
       "      <td>male</td>\n",
       "      <td>32.0</td>\n",
       "      <td>0</td>\n",
       "      <td>0</td>\n",
       "      <td>7.7500</td>\n",
       "      <td>Q</td>\n",
       "    </tr>\n",
       "  </tbody>\n",
       "</table>\n",
       "<p>891 rows × 8 columns</p>\n",
       "</div>"
      ],
      "text/plain": [
       "     Survived  Pclass     Sex   Age  SibSp  Parch     Fare Embarked\n",
       "0           0       3    male  22.0      1      0   7.2500        S\n",
       "1           1       1  female  38.0      1      0  71.2833        C\n",
       "2           1       3  female  26.0      0      0   7.9250        S\n",
       "3           1       1  female  35.0      1      0  53.1000        S\n",
       "4           0       3    male  35.0      0      0   8.0500        S\n",
       "..        ...     ...     ...   ...    ...    ...      ...      ...\n",
       "886         0       2    male  27.0      0      0  13.0000        S\n",
       "887         1       1  female  19.0      0      0  30.0000        S\n",
       "888         0       3  female   NaN      1      2  23.4500        S\n",
       "889         1       1    male  26.0      0      0  30.0000        C\n",
       "890         0       3    male  32.0      0      0   7.7500        Q\n",
       "\n",
       "[891 rows x 8 columns]"
      ]
     },
     "execution_count": 6,
     "metadata": {},
     "output_type": "execute_result"
    }
   ],
   "source": [
    "df_train.drop([\"Name\", \"PassengerId\", \"Cabin\", \"Ticket\"], axis=1, inplace=True)\n",
    "df_train"
   ]
  },
  {
   "cell_type": "markdown",
   "id": "06973585",
   "metadata": {},
   "source": [
    "To handle the NAs found in the Age and Embarked columns, we will just drop the rows with missing values. I acknowledge that there are other methods to sample rows or add median values to avoid dropping data but the purpose of this notebook is simply to practice creating neural networks to make predictions so we will just drop the missing data."
   ]
  },
  {
   "cell_type": "code",
   "execution_count": 7,
   "id": "dd980c49",
   "metadata": {},
   "outputs": [],
   "source": [
    "df_train.dropna(inplace=True)"
   ]
  },
  {
   "cell_type": "code",
   "execution_count": 8,
   "id": "1fbbeeaf",
   "metadata": {},
   "outputs": [
    {
     "data": {
      "text/plain": [
       "Survived    0\n",
       "Pclass      0\n",
       "Sex         0\n",
       "Age         0\n",
       "SibSp       0\n",
       "Parch       0\n",
       "Fare        0\n",
       "Embarked    0\n",
       "dtype: int64"
      ]
     },
     "execution_count": 8,
     "metadata": {},
     "output_type": "execute_result"
    }
   ],
   "source": [
    "df_train.isna().sum()"
   ]
  },
  {
   "cell_type": "code",
   "execution_count": 9,
   "id": "07ab8d03",
   "metadata": {},
   "outputs": [
    {
     "data": {
      "text/html": [
       "<div>\n",
       "<style scoped>\n",
       "    .dataframe tbody tr th:only-of-type {\n",
       "        vertical-align: middle;\n",
       "    }\n",
       "\n",
       "    .dataframe tbody tr th {\n",
       "        vertical-align: top;\n",
       "    }\n",
       "\n",
       "    .dataframe thead th {\n",
       "        text-align: right;\n",
       "    }\n",
       "</style>\n",
       "<table border=\"1\" class=\"dataframe\">\n",
       "  <thead>\n",
       "    <tr style=\"text-align: right;\">\n",
       "      <th></th>\n",
       "      <th>Survived</th>\n",
       "      <th>Pclass</th>\n",
       "      <th>Sex</th>\n",
       "      <th>Age</th>\n",
       "      <th>SibSp</th>\n",
       "      <th>Parch</th>\n",
       "      <th>Fare</th>\n",
       "      <th>Embarked</th>\n",
       "    </tr>\n",
       "  </thead>\n",
       "  <tbody>\n",
       "    <tr>\n",
       "      <th>0</th>\n",
       "      <td>0</td>\n",
       "      <td>3</td>\n",
       "      <td>male</td>\n",
       "      <td>22.0</td>\n",
       "      <td>1</td>\n",
       "      <td>0</td>\n",
       "      <td>7.2500</td>\n",
       "      <td>S</td>\n",
       "    </tr>\n",
       "    <tr>\n",
       "      <th>1</th>\n",
       "      <td>1</td>\n",
       "      <td>1</td>\n",
       "      <td>female</td>\n",
       "      <td>38.0</td>\n",
       "      <td>1</td>\n",
       "      <td>0</td>\n",
       "      <td>71.2833</td>\n",
       "      <td>C</td>\n",
       "    </tr>\n",
       "    <tr>\n",
       "      <th>2</th>\n",
       "      <td>1</td>\n",
       "      <td>3</td>\n",
       "      <td>female</td>\n",
       "      <td>26.0</td>\n",
       "      <td>0</td>\n",
       "      <td>0</td>\n",
       "      <td>7.9250</td>\n",
       "      <td>S</td>\n",
       "    </tr>\n",
       "    <tr>\n",
       "      <th>3</th>\n",
       "      <td>1</td>\n",
       "      <td>1</td>\n",
       "      <td>female</td>\n",
       "      <td>35.0</td>\n",
       "      <td>1</td>\n",
       "      <td>0</td>\n",
       "      <td>53.1000</td>\n",
       "      <td>S</td>\n",
       "    </tr>\n",
       "    <tr>\n",
       "      <th>4</th>\n",
       "      <td>0</td>\n",
       "      <td>3</td>\n",
       "      <td>male</td>\n",
       "      <td>35.0</td>\n",
       "      <td>0</td>\n",
       "      <td>0</td>\n",
       "      <td>8.0500</td>\n",
       "      <td>S</td>\n",
       "    </tr>\n",
       "    <tr>\n",
       "      <th>...</th>\n",
       "      <td>...</td>\n",
       "      <td>...</td>\n",
       "      <td>...</td>\n",
       "      <td>...</td>\n",
       "      <td>...</td>\n",
       "      <td>...</td>\n",
       "      <td>...</td>\n",
       "      <td>...</td>\n",
       "    </tr>\n",
       "    <tr>\n",
       "      <th>885</th>\n",
       "      <td>0</td>\n",
       "      <td>3</td>\n",
       "      <td>female</td>\n",
       "      <td>39.0</td>\n",
       "      <td>0</td>\n",
       "      <td>5</td>\n",
       "      <td>29.1250</td>\n",
       "      <td>Q</td>\n",
       "    </tr>\n",
       "    <tr>\n",
       "      <th>886</th>\n",
       "      <td>0</td>\n",
       "      <td>2</td>\n",
       "      <td>male</td>\n",
       "      <td>27.0</td>\n",
       "      <td>0</td>\n",
       "      <td>0</td>\n",
       "      <td>13.0000</td>\n",
       "      <td>S</td>\n",
       "    </tr>\n",
       "    <tr>\n",
       "      <th>887</th>\n",
       "      <td>1</td>\n",
       "      <td>1</td>\n",
       "      <td>female</td>\n",
       "      <td>19.0</td>\n",
       "      <td>0</td>\n",
       "      <td>0</td>\n",
       "      <td>30.0000</td>\n",
       "      <td>S</td>\n",
       "    </tr>\n",
       "    <tr>\n",
       "      <th>889</th>\n",
       "      <td>1</td>\n",
       "      <td>1</td>\n",
       "      <td>male</td>\n",
       "      <td>26.0</td>\n",
       "      <td>0</td>\n",
       "      <td>0</td>\n",
       "      <td>30.0000</td>\n",
       "      <td>C</td>\n",
       "    </tr>\n",
       "    <tr>\n",
       "      <th>890</th>\n",
       "      <td>0</td>\n",
       "      <td>3</td>\n",
       "      <td>male</td>\n",
       "      <td>32.0</td>\n",
       "      <td>0</td>\n",
       "      <td>0</td>\n",
       "      <td>7.7500</td>\n",
       "      <td>Q</td>\n",
       "    </tr>\n",
       "  </tbody>\n",
       "</table>\n",
       "<p>712 rows × 8 columns</p>\n",
       "</div>"
      ],
      "text/plain": [
       "     Survived  Pclass     Sex   Age  SibSp  Parch     Fare Embarked\n",
       "0           0       3    male  22.0      1      0   7.2500        S\n",
       "1           1       1  female  38.0      1      0  71.2833        C\n",
       "2           1       3  female  26.0      0      0   7.9250        S\n",
       "3           1       1  female  35.0      1      0  53.1000        S\n",
       "4           0       3    male  35.0      0      0   8.0500        S\n",
       "..        ...     ...     ...   ...    ...    ...      ...      ...\n",
       "885         0       3  female  39.0      0      5  29.1250        Q\n",
       "886         0       2    male  27.0      0      0  13.0000        S\n",
       "887         1       1  female  19.0      0      0  30.0000        S\n",
       "889         1       1    male  26.0      0      0  30.0000        C\n",
       "890         0       3    male  32.0      0      0   7.7500        Q\n",
       "\n",
       "[712 rows x 8 columns]"
      ]
     },
     "execution_count": 9,
     "metadata": {},
     "output_type": "execute_result"
    }
   ],
   "source": [
    "df_train"
   ]
  },
  {
   "cell_type": "markdown",
   "id": "7515015e",
   "metadata": {},
   "source": [
    "We will now normalize the age by dividing it by the max age value in the dataset to get age as a percentile."
   ]
  },
  {
   "cell_type": "code",
   "execution_count": 10,
   "id": "66f379b5",
   "metadata": {},
   "outputs": [],
   "source": [
    "df_train[\"Age_N\"] = df_train[\"Age\"] / df_train[\"Age\"].max()"
   ]
  },
  {
   "cell_type": "markdown",
   "id": "982d4835",
   "metadata": {},
   "source": [
    "Since fare doesn't increase linearly, we will take the log of Fare to create a more even distribution. If fare is 0, this will cause issues with log so we will remove these columns"
   ]
  },
  {
   "cell_type": "code",
   "execution_count": 11,
   "id": "76296425",
   "metadata": {},
   "outputs": [],
   "source": [
    "df_train.drop(df_train[df_train[\"Fare\"]==0].index, inplace=True)"
   ]
  },
  {
   "cell_type": "code",
   "execution_count": 12,
   "id": "5e326352",
   "metadata": {},
   "outputs": [],
   "source": [
    "df_train[\"logFare\"] = np.log10(df_train[\"Fare\"])"
   ]
  },
  {
   "cell_type": "markdown",
   "id": "327a08f0",
   "metadata": {},
   "source": [
    "Lastly, we need to create dummy variables for our categorical variables embarked, sex, and Pclass"
   ]
  },
  {
   "cell_type": "code",
   "execution_count": 13,
   "id": "7938498a",
   "metadata": {},
   "outputs": [],
   "source": [
    "df_train[\"isMale\"] = (df_train[\"Sex\"] == \"male\").astype(int)"
   ]
  },
  {
   "cell_type": "code",
   "execution_count": 14,
   "id": "93230027",
   "metadata": {},
   "outputs": [],
   "source": [
    "pclass_dummies = pd.get_dummies(df_train[\"Pclass\"], drop_first=True, prefix=\"Pclass\")\n",
    "embarked_dummies = pd.get_dummies(df_train[\"Embarked\"], prefix=\"Embarked\", drop_first=True)\n",
    "df_train = pd.concat([df_train, pclass_dummies, embarked_dummies], axis=1)"
   ]
  },
  {
   "cell_type": "markdown",
   "id": "db0c5e5d",
   "metadata": {},
   "source": [
    "Now, let's drop all the rows of the old columns that are no longer in use."
   ]
  },
  {
   "cell_type": "code",
   "execution_count": 15,
   "id": "8c7b811b",
   "metadata": {},
   "outputs": [],
   "source": [
    "df_train.drop([\"Pclass\", \"Sex\", \"Age\", \"Fare\", \"Embarked\"], axis=1, inplace=True)"
   ]
  },
  {
   "cell_type": "markdown",
   "id": "ce5226a3",
   "metadata": {},
   "source": [
    "We need to add a column of ones as a trick for adding the constant value."
   ]
  },
  {
   "cell_type": "code",
   "execution_count": 16,
   "id": "82e8e698",
   "metadata": {},
   "outputs": [],
   "source": [
    "df_train[\"Ones\"] = 1"
   ]
  },
  {
   "cell_type": "markdown",
   "id": "bdd03d36",
   "metadata": {},
   "source": [
    "Let's pull out survived from the main df"
   ]
  },
  {
   "cell_type": "code",
   "execution_count": 17,
   "id": "2b4935e0",
   "metadata": {},
   "outputs": [],
   "source": [
    "y_train = df_train.pop(\"Survived\")"
   ]
  },
  {
   "cell_type": "code",
   "execution_count": 18,
   "id": "c1f37eb8",
   "metadata": {},
   "outputs": [
    {
     "data": {
      "text/html": [
       "<div>\n",
       "<style scoped>\n",
       "    .dataframe tbody tr th:only-of-type {\n",
       "        vertical-align: middle;\n",
       "    }\n",
       "\n",
       "    .dataframe tbody tr th {\n",
       "        vertical-align: top;\n",
       "    }\n",
       "\n",
       "    .dataframe thead th {\n",
       "        text-align: right;\n",
       "    }\n",
       "</style>\n",
       "<table border=\"1\" class=\"dataframe\">\n",
       "  <thead>\n",
       "    <tr style=\"text-align: right;\">\n",
       "      <th></th>\n",
       "      <th>SibSp</th>\n",
       "      <th>Parch</th>\n",
       "      <th>Age_N</th>\n",
       "      <th>logFare</th>\n",
       "      <th>isMale</th>\n",
       "      <th>Pclass_2</th>\n",
       "      <th>Pclass_3</th>\n",
       "      <th>Embarked_Q</th>\n",
       "      <th>Embarked_S</th>\n",
       "      <th>Ones</th>\n",
       "    </tr>\n",
       "  </thead>\n",
       "  <tbody>\n",
       "    <tr>\n",
       "      <th>0</th>\n",
       "      <td>1</td>\n",
       "      <td>0</td>\n",
       "      <td>0.2750</td>\n",
       "      <td>0.860338</td>\n",
       "      <td>1</td>\n",
       "      <td>0</td>\n",
       "      <td>1</td>\n",
       "      <td>0</td>\n",
       "      <td>1</td>\n",
       "      <td>1</td>\n",
       "    </tr>\n",
       "    <tr>\n",
       "      <th>1</th>\n",
       "      <td>1</td>\n",
       "      <td>0</td>\n",
       "      <td>0.4750</td>\n",
       "      <td>1.852988</td>\n",
       "      <td>0</td>\n",
       "      <td>0</td>\n",
       "      <td>0</td>\n",
       "      <td>0</td>\n",
       "      <td>0</td>\n",
       "      <td>1</td>\n",
       "    </tr>\n",
       "    <tr>\n",
       "      <th>2</th>\n",
       "      <td>0</td>\n",
       "      <td>0</td>\n",
       "      <td>0.3250</td>\n",
       "      <td>0.898999</td>\n",
       "      <td>0</td>\n",
       "      <td>0</td>\n",
       "      <td>1</td>\n",
       "      <td>0</td>\n",
       "      <td>1</td>\n",
       "      <td>1</td>\n",
       "    </tr>\n",
       "    <tr>\n",
       "      <th>3</th>\n",
       "      <td>1</td>\n",
       "      <td>0</td>\n",
       "      <td>0.4375</td>\n",
       "      <td>1.725095</td>\n",
       "      <td>0</td>\n",
       "      <td>0</td>\n",
       "      <td>0</td>\n",
       "      <td>0</td>\n",
       "      <td>1</td>\n",
       "      <td>1</td>\n",
       "    </tr>\n",
       "    <tr>\n",
       "      <th>4</th>\n",
       "      <td>0</td>\n",
       "      <td>0</td>\n",
       "      <td>0.4375</td>\n",
       "      <td>0.905796</td>\n",
       "      <td>1</td>\n",
       "      <td>0</td>\n",
       "      <td>1</td>\n",
       "      <td>0</td>\n",
       "      <td>1</td>\n",
       "      <td>1</td>\n",
       "    </tr>\n",
       "    <tr>\n",
       "      <th>...</th>\n",
       "      <td>...</td>\n",
       "      <td>...</td>\n",
       "      <td>...</td>\n",
       "      <td>...</td>\n",
       "      <td>...</td>\n",
       "      <td>...</td>\n",
       "      <td>...</td>\n",
       "      <td>...</td>\n",
       "      <td>...</td>\n",
       "      <td>...</td>\n",
       "    </tr>\n",
       "    <tr>\n",
       "      <th>885</th>\n",
       "      <td>0</td>\n",
       "      <td>5</td>\n",
       "      <td>0.4875</td>\n",
       "      <td>1.464266</td>\n",
       "      <td>0</td>\n",
       "      <td>0</td>\n",
       "      <td>1</td>\n",
       "      <td>1</td>\n",
       "      <td>0</td>\n",
       "      <td>1</td>\n",
       "    </tr>\n",
       "    <tr>\n",
       "      <th>886</th>\n",
       "      <td>0</td>\n",
       "      <td>0</td>\n",
       "      <td>0.3375</td>\n",
       "      <td>1.113943</td>\n",
       "      <td>1</td>\n",
       "      <td>1</td>\n",
       "      <td>0</td>\n",
       "      <td>0</td>\n",
       "      <td>1</td>\n",
       "      <td>1</td>\n",
       "    </tr>\n",
       "    <tr>\n",
       "      <th>887</th>\n",
       "      <td>0</td>\n",
       "      <td>0</td>\n",
       "      <td>0.2375</td>\n",
       "      <td>1.477121</td>\n",
       "      <td>0</td>\n",
       "      <td>0</td>\n",
       "      <td>0</td>\n",
       "      <td>0</td>\n",
       "      <td>1</td>\n",
       "      <td>1</td>\n",
       "    </tr>\n",
       "    <tr>\n",
       "      <th>889</th>\n",
       "      <td>0</td>\n",
       "      <td>0</td>\n",
       "      <td>0.3250</td>\n",
       "      <td>1.477121</td>\n",
       "      <td>1</td>\n",
       "      <td>0</td>\n",
       "      <td>0</td>\n",
       "      <td>0</td>\n",
       "      <td>0</td>\n",
       "      <td>1</td>\n",
       "    </tr>\n",
       "    <tr>\n",
       "      <th>890</th>\n",
       "      <td>0</td>\n",
       "      <td>0</td>\n",
       "      <td>0.4000</td>\n",
       "      <td>0.889302</td>\n",
       "      <td>1</td>\n",
       "      <td>0</td>\n",
       "      <td>1</td>\n",
       "      <td>1</td>\n",
       "      <td>0</td>\n",
       "      <td>1</td>\n",
       "    </tr>\n",
       "  </tbody>\n",
       "</table>\n",
       "<p>705 rows × 10 columns</p>\n",
       "</div>"
      ],
      "text/plain": [
       "     SibSp  Parch   Age_N   logFare  isMale  Pclass_2  Pclass_3  Embarked_Q  \\\n",
       "0        1      0  0.2750  0.860338       1         0         1           0   \n",
       "1        1      0  0.4750  1.852988       0         0         0           0   \n",
       "2        0      0  0.3250  0.898999       0         0         1           0   \n",
       "3        1      0  0.4375  1.725095       0         0         0           0   \n",
       "4        0      0  0.4375  0.905796       1         0         1           0   \n",
       "..     ...    ...     ...       ...     ...       ...       ...         ...   \n",
       "885      0      5  0.4875  1.464266       0         0         1           1   \n",
       "886      0      0  0.3375  1.113943       1         1         0           0   \n",
       "887      0      0  0.2375  1.477121       0         0         0           0   \n",
       "889      0      0  0.3250  1.477121       1         0         0           0   \n",
       "890      0      0  0.4000  0.889302       1         0         1           1   \n",
       "\n",
       "     Embarked_S  Ones  \n",
       "0             1     1  \n",
       "1             0     1  \n",
       "2             1     1  \n",
       "3             1     1  \n",
       "4             1     1  \n",
       "..          ...   ...  \n",
       "885           0     1  \n",
       "886           1     1  \n",
       "887           1     1  \n",
       "889           0     1  \n",
       "890           0     1  \n",
       "\n",
       "[705 rows x 10 columns]"
      ]
     },
     "execution_count": 18,
     "metadata": {},
     "output_type": "execute_result"
    }
   ],
   "source": [
    "df_train"
   ]
  },
  {
   "cell_type": "markdown",
   "id": "e38f10de",
   "metadata": {},
   "source": [
    "Our data looks ready for modeling. Let's begin"
   ]
  },
  {
   "cell_type": "markdown",
   "id": "d84e57c9",
   "metadata": {},
   "source": [
    "## Modeling: Regression\n",
    "We will start simple with a linear regression"
   ]
  },
  {
   "cell_type": "markdown",
   "id": "28ad636b",
   "metadata": {},
   "source": [
    "We need to define our initial parameters"
   ]
  },
  {
   "cell_type": "code",
   "execution_count": 252,
   "id": "ad5ca710",
   "metadata": {},
   "outputs": [
    {
     "data": {
      "text/plain": [
       "(tensor([[-0.8599],\n",
       "         [-0.5173],\n",
       "         [-1.0287],\n",
       "         [-0.3223],\n",
       "         [-0.4777],\n",
       "         [ 0.4437],\n",
       "         [-0.9848],\n",
       "         [-0.3214],\n",
       "         [ 0.8510],\n",
       "         [ 0.4730]], requires_grad=True),\n",
       " torch.Size([10, 1]))"
      ]
     },
     "execution_count": 252,
     "metadata": {},
     "output_type": "execute_result"
    }
   ],
   "source": [
    "params = torch.randn(df_train.shape[1]).reshape(-1,1).requires_grad_()\n",
    "params, params.shape"
   ]
  },
  {
   "cell_type": "code",
   "execution_count": 253,
   "id": "07aa6e0b",
   "metadata": {},
   "outputs": [
    {
     "data": {
      "text/plain": [
       "torch.Size([705, 10])"
      ]
     },
     "execution_count": 253,
     "metadata": {},
     "output_type": "execute_result"
    }
   ],
   "source": [
    "train = torch.tensor(df_train.values).float()\n",
    "train.shape"
   ]
  },
  {
   "cell_type": "code",
   "execution_count": 254,
   "id": "03389993",
   "metadata": {},
   "outputs": [
    {
     "data": {
      "text/plain": [
       "torch.Size([705, 1])"
      ]
     },
     "execution_count": 254,
     "metadata": {},
     "output_type": "execute_result"
    }
   ],
   "source": [
    "y = torch.tensor(y_train.values).reshape(-1,1).float()\n",
    "y.shape"
   ]
  },
  {
   "cell_type": "code",
   "execution_count": 255,
   "id": "03828594",
   "metadata": {},
   "outputs": [],
   "source": [
    "preds = train.matmul(params)"
   ]
  },
  {
   "cell_type": "code",
   "execution_count": 256,
   "id": "bf4335a6",
   "metadata": {},
   "outputs": [
    {
     "data": {
      "text/plain": [
       "tensor(3.7665, grad_fn=<MseLossBackward0>)"
      ]
     },
     "execution_count": 256,
     "metadata": {},
     "output_type": "execute_result"
    }
   ],
   "source": [
    "loss = F.mse_loss(preds, y)\n",
    "loss"
   ]
  },
  {
   "cell_type": "code",
   "execution_count": 257,
   "id": "a611e7ea",
   "metadata": {},
   "outputs": [
    {
     "data": {
      "text/plain": [
       "tensor([[-3.3026],\n",
       "        [-2.5616],\n",
       "        [-0.9630],\n",
       "        [-4.1213],\n",
       "        [-1.6446],\n",
       "        [-0.2181],\n",
       "        [-1.8191],\n",
       "        [-0.2211],\n",
       "        [-1.8807],\n",
       "        [-2.8865]])"
      ]
     },
     "execution_count": 257,
     "metadata": {},
     "output_type": "execute_result"
    }
   ],
   "source": [
    "loss.backward()\n",
    "params.grad"
   ]
  },
  {
   "cell_type": "code",
   "execution_count": 258,
   "id": "5067de6f",
   "metadata": {},
   "outputs": [
    {
     "data": {
      "text/plain": [
       "tensor([[-0.5296],\n",
       "        [-0.2612],\n",
       "        [-0.9324],\n",
       "        [ 0.0898],\n",
       "        [-0.3132],\n",
       "        [ 0.4655],\n",
       "        [-0.8029],\n",
       "        [-0.2993],\n",
       "        [ 1.0391],\n",
       "        [ 0.7617]], requires_grad=True)"
      ]
     },
     "execution_count": 258,
     "metadata": {},
     "output_type": "execute_result"
    }
   ],
   "source": [
    "params.data -= params.grad.data*.1\n",
    "params.grad = None\n",
    "params"
   ]
  },
  {
   "cell_type": "code",
   "execution_count": 259,
   "id": "9b3753b5",
   "metadata": {},
   "outputs": [],
   "source": [
    "def validate_epoch(x,y,params):\n",
    "    preds = x.matmul(params).sigmoid()\n",
    "    correct = (preds>0.5) == y\n",
    "    return correct.float().mean()"
   ]
  },
  {
   "cell_type": "markdown",
   "id": "c5f0b956",
   "metadata": {},
   "source": [
    "Now that we've completed one step of gradient descent, let's create a function that we can loop to train more epochs."
   ]
  },
  {
   "cell_type": "code",
   "execution_count": 264,
   "id": "cf9ac5b3",
   "metadata": {},
   "outputs": [],
   "source": [
    "def one_step(data, y, params, lr, prn=True):\n",
    "    pred = data.matmul(params)\n",
    "    loss = F.mse_loss(pred, y)\n",
    "    loss.backward()\n",
    "    with torch.no_grad():\n",
    "        params -= params.grad * lr\n",
    "        params.grad = None\n",
    "    if prn: print(loss.item())\n",
    "    return pred"
   ]
  },
  {
   "cell_type": "markdown",
   "id": "b93aed7d",
   "metadata": {},
   "source": [
    "Now let's loop this for some training epochs"
   ]
  },
  {
   "cell_type": "code",
   "execution_count": 373,
   "id": "5e37bd65",
   "metadata": {},
   "outputs": [
    {
     "name": "stdout",
     "output_type": "stream",
     "text": [
      "0.14759643375873566\n",
      "0.14759184420108795\n",
      "0.14758725464344025\n",
      "0.14758270978927612\n",
      "0.1475781500339508\n",
      "0.14757360517978668\n",
      "0.14756907522678375\n",
      "0.14756454527378082\n",
      "0.1475600153207779\n",
      "0.14755551517009735\n"
     ]
    }
   ],
   "source": [
    "n_epochs = 10\n",
    "for i in range(n_epochs):\n",
    "    one_step(train,y,params,0.01)"
   ]
  },
  {
   "cell_type": "markdown",
   "id": "1880285d",
   "metadata": {},
   "source": [
    "Let's now calculate the accuracy of our model."
   ]
  },
  {
   "cell_type": "code",
   "execution_count": 384,
   "id": "0c56e40a",
   "metadata": {},
   "outputs": [
    {
     "data": {
      "text/plain": [
       "tensor(0.5390)"
      ]
     },
     "execution_count": 384,
     "metadata": {},
     "output_type": "execute_result"
    }
   ],
   "source": [
    "preds = train.matmul(params)\n",
    "((preds < 0) == y).float().mean()"
   ]
  },
  {
   "cell_type": "markdown",
   "id": "a7a98964",
   "metadata": {},
   "source": [
    "Now let's try creating a neural net instead. The difference is that above we are simply doing a regression and with a neural net there need to be multiple layers. We also need an activation function between the layers, otherwise it is still just one more complicated linear function and thus regression."
   ]
  },
  {
   "cell_type": "markdown",
   "id": "fbbb39fa",
   "metadata": {},
   "source": [
    "### Neural Net"
   ]
  },
  {
   "cell_type": "code",
   "execution_count": 390,
   "id": "2b366fa4",
   "metadata": {},
   "outputs": [
    {
     "data": {
      "text/plain": [
       "(tensor([ 0.1044, -0.0250,  0.5872,  0.5903, -0.3698, -0.4453,  0.7028,  1.5119,\n",
       "          0.4524, -0.2436], requires_grad=True),\n",
       " tensor([-2.2570, -0.0250, -1.3394, -0.1588, -1.3354,  1.3935,  0.7422,  0.0720,\n",
       "         -0.6119, -0.3452], requires_grad=True))"
      ]
     },
     "execution_count": 390,
     "metadata": {},
     "output_type": "execute_result"
    }
   ],
   "source": [
    "nn_params1 = torch.randn(train.shape[1]).requires_grad_()\n",
    "nn_params2 = torch.randn(train.shape[1]).requires_grad_()\n",
    "nn_params1, nn_params2"
   ]
  },
  {
   "cell_type": "code",
   "execution_count": 397,
   "id": "131fa9ab",
   "metadata": {},
   "outputs": [],
   "source": [
    "def step_nn(data,y,p1,p2,lr):\n",
    "    relu1 = data.matmul(p1).clip(min=0)\n",
    "    relu2 = data.matmul(p2).clip(min=0)\n",
    "    pred = (relu1 + relu2).reshape(-1,1)\n",
    "    loss = F.mse_loss(pred, y)\n",
    "    loss.backward()\n",
    "    with torch.no_grad():\n",
    "        p1 -= p1.grad * lr\n",
    "        p1.grad = None\n",
    "        p2 -= p2.grad * lr\n",
    "        p2.grad = None\n",
    "    print(loss.item())\n",
    "    return pred"
   ]
  },
  {
   "cell_type": "code",
   "execution_count": 400,
   "id": "e5f6d350",
   "metadata": {},
   "outputs": [
    {
     "name": "stdout",
     "output_type": "stream",
     "text": [
      "0.350899875164032\n",
      "0.3499789834022522\n",
      "0.34905850887298584\n",
      "0.34813618659973145\n",
      "0.3472136855125427\n",
      "0.3463018238544464\n",
      "0.34540051221847534\n",
      "0.3445095121860504\n",
      "0.34362417459487915\n",
      "0.3427416980266571\n",
      "0.34185707569122314\n",
      "0.34096217155456543\n",
      "0.34007716178894043\n",
      "0.3392018973827362\n",
      "0.3383362293243408\n",
      "0.3374800384044647\n",
      "0.33663323521614075\n",
      "0.33579567074775696\n",
      "0.334964781999588\n",
      "0.334123432636261\n"
     ]
    }
   ],
   "source": [
    "nn_epochs = 20\n",
    "for i in range(nn_epochs):\n",
    "    step_nn(train,y,nn_params1,nn_params2,0.01)"
   ]
  },
  {
   "cell_type": "markdown",
   "id": "4f78d38a",
   "metadata": {},
   "source": [
    "Check accuracy of neural net"
   ]
  },
  {
   "cell_type": "code",
   "execution_count": 402,
   "id": "efeaf9bc",
   "metadata": {},
   "outputs": [
    {
     "data": {
      "text/plain": [
       "tensor(0.5929)"
      ]
     },
     "execution_count": 402,
     "metadata": {},
     "output_type": "execute_result"
    }
   ],
   "source": [
    "preds = train.matmul(nn_params1).clip(0) + train.matmul(nn_params2).clip(0)\n",
    "((preds < 0) == y).float().mean()"
   ]
  },
  {
   "cell_type": "markdown",
   "id": "fd0a2d6d",
   "metadata": {},
   "source": [
    "This accuracy is slightly better than our linear regression above which is as expected. However, we are still less than 60% accurate. Note: we are running these accuracy calculations on the training set which is a bad practice. This is simply because this notebook is just for practice and I decided to skip reperforming the data mutations on the test set."
   ]
  }
 ],
 "metadata": {
  "kernelspec": {
   "display_name": "Python 3 (ipykernel)",
   "language": "python",
   "name": "python3"
  },
  "language_info": {
   "codemirror_mode": {
    "name": "ipython",
    "version": 3
   },
   "file_extension": ".py",
   "mimetype": "text/x-python",
   "name": "python",
   "nbconvert_exporter": "python",
   "pygments_lexer": "ipython3",
   "version": "3.9.5"
  }
 },
 "nbformat": 4,
 "nbformat_minor": 5
}
